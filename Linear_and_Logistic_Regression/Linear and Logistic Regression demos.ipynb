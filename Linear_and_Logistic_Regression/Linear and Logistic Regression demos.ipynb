{
 "cells": [
  {
   "cell_type": "code",
   "execution_count": 1,
   "metadata": {},
   "outputs": [],
   "source": [
    "%matplotlib inline"
   ]
  },
  {
   "cell_type": "code",
   "execution_count": 51,
   "metadata": {},
   "outputs": [],
   "source": [
    "import numpy as np\n",
    "import pandas as pd\n",
    "import matplotlib.pyplot as plt\n",
    "\n",
    "from nose.tools import *\n",
    "\n",
    "from sklearn.linear_model import LogisticRegression\n",
    "from sklearn.linear_model import LinearRegression, RANSACRegressor\n",
    "\n",
    "from sklearn.preprocessing import PolynomialFeatures\n",
    "from sklearn.preprocessing import MinMaxScaler"
   ]
  },
  {
   "cell_type": "code",
   "execution_count": 5,
   "metadata": {},
   "outputs": [],
   "source": [
    "housing = pd.read_fwf('https://archive.ics.uci.edu/ml/machine-learning-databases/housing/housing.data', header=None)"
   ]
  },
  {
   "cell_type": "code",
   "execution_count": 6,
   "metadata": {},
   "outputs": [
    {
     "data": {
      "text/html": [
       "<div>\n",
       "<style scoped>\n",
       "    .dataframe tbody tr th:only-of-type {\n",
       "        vertical-align: middle;\n",
       "    }\n",
       "\n",
       "    .dataframe tbody tr th {\n",
       "        vertical-align: top;\n",
       "    }\n",
       "\n",
       "    .dataframe thead th {\n",
       "        text-align: right;\n",
       "    }\n",
       "</style>\n",
       "<table border=\"1\" class=\"dataframe\">\n",
       "  <thead>\n",
       "    <tr style=\"text-align: right;\">\n",
       "      <th></th>\n",
       "      <th>0</th>\n",
       "      <th>1</th>\n",
       "      <th>2</th>\n",
       "      <th>3</th>\n",
       "      <th>4</th>\n",
       "      <th>5</th>\n",
       "      <th>6</th>\n",
       "      <th>7</th>\n",
       "      <th>8</th>\n",
       "      <th>9</th>\n",
       "      <th>10</th>\n",
       "      <th>11</th>\n",
       "      <th>12</th>\n",
       "      <th>13</th>\n",
       "    </tr>\n",
       "  </thead>\n",
       "  <tbody>\n",
       "    <tr>\n",
       "      <th>0</th>\n",
       "      <td>0.00632</td>\n",
       "      <td>18.0</td>\n",
       "      <td>2.31</td>\n",
       "      <td>0</td>\n",
       "      <td>0.538</td>\n",
       "      <td>6.575</td>\n",
       "      <td>65.2</td>\n",
       "      <td>4.0900</td>\n",
       "      <td>1</td>\n",
       "      <td>296.0</td>\n",
       "      <td>15.3</td>\n",
       "      <td>396.90</td>\n",
       "      <td>4.98</td>\n",
       "      <td>24.0</td>\n",
       "    </tr>\n",
       "    <tr>\n",
       "      <th>1</th>\n",
       "      <td>0.02731</td>\n",
       "      <td>0.0</td>\n",
       "      <td>7.07</td>\n",
       "      <td>0</td>\n",
       "      <td>0.469</td>\n",
       "      <td>6.421</td>\n",
       "      <td>78.9</td>\n",
       "      <td>4.9671</td>\n",
       "      <td>2</td>\n",
       "      <td>242.0</td>\n",
       "      <td>17.8</td>\n",
       "      <td>396.90</td>\n",
       "      <td>9.14</td>\n",
       "      <td>21.6</td>\n",
       "    </tr>\n",
       "    <tr>\n",
       "      <th>2</th>\n",
       "      <td>0.02729</td>\n",
       "      <td>0.0</td>\n",
       "      <td>7.07</td>\n",
       "      <td>0</td>\n",
       "      <td>0.469</td>\n",
       "      <td>7.185</td>\n",
       "      <td>61.1</td>\n",
       "      <td>4.9671</td>\n",
       "      <td>2</td>\n",
       "      <td>242.0</td>\n",
       "      <td>17.8</td>\n",
       "      <td>392.83</td>\n",
       "      <td>4.03</td>\n",
       "      <td>34.7</td>\n",
       "    </tr>\n",
       "    <tr>\n",
       "      <th>3</th>\n",
       "      <td>0.03237</td>\n",
       "      <td>0.0</td>\n",
       "      <td>2.18</td>\n",
       "      <td>0</td>\n",
       "      <td>0.458</td>\n",
       "      <td>6.998</td>\n",
       "      <td>45.8</td>\n",
       "      <td>6.0622</td>\n",
       "      <td>3</td>\n",
       "      <td>222.0</td>\n",
       "      <td>18.7</td>\n",
       "      <td>394.63</td>\n",
       "      <td>2.94</td>\n",
       "      <td>33.4</td>\n",
       "    </tr>\n",
       "    <tr>\n",
       "      <th>4</th>\n",
       "      <td>0.06905</td>\n",
       "      <td>0.0</td>\n",
       "      <td>2.18</td>\n",
       "      <td>0</td>\n",
       "      <td>0.458</td>\n",
       "      <td>7.147</td>\n",
       "      <td>54.2</td>\n",
       "      <td>6.0622</td>\n",
       "      <td>3</td>\n",
       "      <td>222.0</td>\n",
       "      <td>18.7</td>\n",
       "      <td>396.90</td>\n",
       "      <td>5.33</td>\n",
       "      <td>36.2</td>\n",
       "    </tr>\n",
       "    <tr>\n",
       "      <th>...</th>\n",
       "      <td>...</td>\n",
       "      <td>...</td>\n",
       "      <td>...</td>\n",
       "      <td>...</td>\n",
       "      <td>...</td>\n",
       "      <td>...</td>\n",
       "      <td>...</td>\n",
       "      <td>...</td>\n",
       "      <td>...</td>\n",
       "      <td>...</td>\n",
       "      <td>...</td>\n",
       "      <td>...</td>\n",
       "      <td>...</td>\n",
       "      <td>...</td>\n",
       "    </tr>\n",
       "    <tr>\n",
       "      <th>501</th>\n",
       "      <td>0.06263</td>\n",
       "      <td>0.0</td>\n",
       "      <td>11.93</td>\n",
       "      <td>0</td>\n",
       "      <td>0.573</td>\n",
       "      <td>6.593</td>\n",
       "      <td>69.1</td>\n",
       "      <td>2.4786</td>\n",
       "      <td>1</td>\n",
       "      <td>273.0</td>\n",
       "      <td>21.0</td>\n",
       "      <td>391.99</td>\n",
       "      <td>9.67</td>\n",
       "      <td>22.4</td>\n",
       "    </tr>\n",
       "    <tr>\n",
       "      <th>502</th>\n",
       "      <td>0.04527</td>\n",
       "      <td>0.0</td>\n",
       "      <td>11.93</td>\n",
       "      <td>0</td>\n",
       "      <td>0.573</td>\n",
       "      <td>6.120</td>\n",
       "      <td>76.7</td>\n",
       "      <td>2.2875</td>\n",
       "      <td>1</td>\n",
       "      <td>273.0</td>\n",
       "      <td>21.0</td>\n",
       "      <td>396.90</td>\n",
       "      <td>9.08</td>\n",
       "      <td>20.6</td>\n",
       "    </tr>\n",
       "    <tr>\n",
       "      <th>503</th>\n",
       "      <td>0.06076</td>\n",
       "      <td>0.0</td>\n",
       "      <td>11.93</td>\n",
       "      <td>0</td>\n",
       "      <td>0.573</td>\n",
       "      <td>6.976</td>\n",
       "      <td>91.0</td>\n",
       "      <td>2.1675</td>\n",
       "      <td>1</td>\n",
       "      <td>273.0</td>\n",
       "      <td>21.0</td>\n",
       "      <td>396.90</td>\n",
       "      <td>5.64</td>\n",
       "      <td>23.9</td>\n",
       "    </tr>\n",
       "    <tr>\n",
       "      <th>504</th>\n",
       "      <td>0.10959</td>\n",
       "      <td>0.0</td>\n",
       "      <td>11.93</td>\n",
       "      <td>0</td>\n",
       "      <td>0.573</td>\n",
       "      <td>6.794</td>\n",
       "      <td>89.3</td>\n",
       "      <td>2.3889</td>\n",
       "      <td>1</td>\n",
       "      <td>273.0</td>\n",
       "      <td>21.0</td>\n",
       "      <td>393.45</td>\n",
       "      <td>6.48</td>\n",
       "      <td>22.0</td>\n",
       "    </tr>\n",
       "    <tr>\n",
       "      <th>505</th>\n",
       "      <td>0.04741</td>\n",
       "      <td>0.0</td>\n",
       "      <td>11.93</td>\n",
       "      <td>0</td>\n",
       "      <td>0.573</td>\n",
       "      <td>6.030</td>\n",
       "      <td>80.8</td>\n",
       "      <td>2.5050</td>\n",
       "      <td>1</td>\n",
       "      <td>273.0</td>\n",
       "      <td>21.0</td>\n",
       "      <td>396.90</td>\n",
       "      <td>7.88</td>\n",
       "      <td>11.9</td>\n",
       "    </tr>\n",
       "  </tbody>\n",
       "</table>\n",
       "<p>506 rows × 14 columns</p>\n",
       "</div>"
      ],
      "text/plain": [
       "          0     1      2   3      4      5     6       7   8      9     10  \\\n",
       "0    0.00632  18.0   2.31   0  0.538  6.575  65.2  4.0900   1  296.0  15.3   \n",
       "1    0.02731   0.0   7.07   0  0.469  6.421  78.9  4.9671   2  242.0  17.8   \n",
       "2    0.02729   0.0   7.07   0  0.469  7.185  61.1  4.9671   2  242.0  17.8   \n",
       "3    0.03237   0.0   2.18   0  0.458  6.998  45.8  6.0622   3  222.0  18.7   \n",
       "4    0.06905   0.0   2.18   0  0.458  7.147  54.2  6.0622   3  222.0  18.7   \n",
       "..       ...   ...    ...  ..    ...    ...   ...     ...  ..    ...   ...   \n",
       "501  0.06263   0.0  11.93   0  0.573  6.593  69.1  2.4786   1  273.0  21.0   \n",
       "502  0.04527   0.0  11.93   0  0.573  6.120  76.7  2.2875   1  273.0  21.0   \n",
       "503  0.06076   0.0  11.93   0  0.573  6.976  91.0  2.1675   1  273.0  21.0   \n",
       "504  0.10959   0.0  11.93   0  0.573  6.794  89.3  2.3889   1  273.0  21.0   \n",
       "505  0.04741   0.0  11.93   0  0.573  6.030  80.8  2.5050   1  273.0  21.0   \n",
       "\n",
       "         11    12    13  \n",
       "0    396.90  4.98  24.0  \n",
       "1    396.90  9.14  21.6  \n",
       "2    392.83  4.03  34.7  \n",
       "3    394.63  2.94  33.4  \n",
       "4    396.90  5.33  36.2  \n",
       "..      ...   ...   ...  \n",
       "501  391.99  9.67  22.4  \n",
       "502  396.90  9.08  20.6  \n",
       "503  396.90  5.64  23.9  \n",
       "504  393.45  6.48  22.0  \n",
       "505  396.90  7.88  11.9  \n",
       "\n",
       "[506 rows x 14 columns]"
      ]
     },
     "execution_count": 6,
     "metadata": {},
     "output_type": "execute_result"
    }
   ],
   "source": [
    "housing"
   ]
  },
  {
   "cell_type": "code",
   "execution_count": 8,
   "metadata": {},
   "outputs": [],
   "source": [
    "housing.columns = [\"crime_ rate\", \"zoned_ land\", \"industry \", \"bounds_ river\",\n",
    "                   \"nox_ conc\", \" rooms\", \" age\", \" distance\", \" highways\", \" tax\", \"pt_ ratio\",\n",
    "                   \"b_ estimator\", \"pop_ status\", \"price\"\n",
    "                  ]"
   ]
  },
  {
   "cell_type": "code",
   "execution_count": 10,
   "metadata": {},
   "outputs": [
    {
     "data": {
      "text/html": [
       "<div>\n",
       "<style scoped>\n",
       "    .dataframe tbody tr th:only-of-type {\n",
       "        vertical-align: middle;\n",
       "    }\n",
       "\n",
       "    .dataframe tbody tr th {\n",
       "        vertical-align: top;\n",
       "    }\n",
       "\n",
       "    .dataframe thead th {\n",
       "        text-align: right;\n",
       "    }\n",
       "</style>\n",
       "<table border=\"1\" class=\"dataframe\">\n",
       "  <thead>\n",
       "    <tr style=\"text-align: right;\">\n",
       "      <th></th>\n",
       "      <th>count</th>\n",
       "      <th>mean</th>\n",
       "      <th>std</th>\n",
       "      <th>min</th>\n",
       "      <th>25%</th>\n",
       "      <th>50%</th>\n",
       "      <th>75%</th>\n",
       "      <th>max</th>\n",
       "    </tr>\n",
       "  </thead>\n",
       "  <tbody>\n",
       "    <tr>\n",
       "      <th>crime_ rate</th>\n",
       "      <td>506.0</td>\n",
       "      <td>1.716290</td>\n",
       "      <td>2.653510</td>\n",
       "      <td>0.00632</td>\n",
       "      <td>0.0819</td>\n",
       "      <td>0.250895</td>\n",
       "      <td>2.326718</td>\n",
       "      <td>9.96654</td>\n",
       "    </tr>\n",
       "    <tr>\n",
       "      <th>zoned_ land</th>\n",
       "      <td>506.0</td>\n",
       "      <td>11.363636</td>\n",
       "      <td>23.322453</td>\n",
       "      <td>0.00000</td>\n",
       "      <td>0.0000</td>\n",
       "      <td>0.000000</td>\n",
       "      <td>12.500000</td>\n",
       "      <td>100.00000</td>\n",
       "    </tr>\n",
       "    <tr>\n",
       "      <th>industry</th>\n",
       "      <td>506.0</td>\n",
       "      <td>11.136779</td>\n",
       "      <td>6.860353</td>\n",
       "      <td>0.46000</td>\n",
       "      <td>5.1900</td>\n",
       "      <td>9.690000</td>\n",
       "      <td>18.100000</td>\n",
       "      <td>27.74000</td>\n",
       "    </tr>\n",
       "    <tr>\n",
       "      <th>bounds_ river</th>\n",
       "      <td>506.0</td>\n",
       "      <td>0.069170</td>\n",
       "      <td>0.253994</td>\n",
       "      <td>0.00000</td>\n",
       "      <td>0.0000</td>\n",
       "      <td>0.000000</td>\n",
       "      <td>0.000000</td>\n",
       "      <td>1.00000</td>\n",
       "    </tr>\n",
       "    <tr>\n",
       "      <th>nox_ conc</th>\n",
       "      <td>506.0</td>\n",
       "      <td>0.554695</td>\n",
       "      <td>0.115878</td>\n",
       "      <td>0.38500</td>\n",
       "      <td>0.4490</td>\n",
       "      <td>0.538000</td>\n",
       "      <td>0.624000</td>\n",
       "      <td>0.87100</td>\n",
       "    </tr>\n",
       "    <tr>\n",
       "      <th>rooms</th>\n",
       "      <td>506.0</td>\n",
       "      <td>6.284634</td>\n",
       "      <td>0.702617</td>\n",
       "      <td>3.56100</td>\n",
       "      <td>5.8855</td>\n",
       "      <td>6.208500</td>\n",
       "      <td>6.623500</td>\n",
       "      <td>8.78000</td>\n",
       "    </tr>\n",
       "    <tr>\n",
       "      <th>age</th>\n",
       "      <td>506.0</td>\n",
       "      <td>68.574901</td>\n",
       "      <td>28.148861</td>\n",
       "      <td>2.90000</td>\n",
       "      <td>45.0250</td>\n",
       "      <td>77.500000</td>\n",
       "      <td>94.075000</td>\n",
       "      <td>100.00000</td>\n",
       "    </tr>\n",
       "    <tr>\n",
       "      <th>distance</th>\n",
       "      <td>506.0</td>\n",
       "      <td>3.696228</td>\n",
       "      <td>1.999689</td>\n",
       "      <td>0.58570</td>\n",
       "      <td>2.0737</td>\n",
       "      <td>3.107300</td>\n",
       "      <td>5.112625</td>\n",
       "      <td>9.22290</td>\n",
       "    </tr>\n",
       "    <tr>\n",
       "      <th>highways</th>\n",
       "      <td>506.0</td>\n",
       "      <td>4.332016</td>\n",
       "      <td>1.417166</td>\n",
       "      <td>1.00000</td>\n",
       "      <td>4.0000</td>\n",
       "      <td>4.000000</td>\n",
       "      <td>5.000000</td>\n",
       "      <td>8.00000</td>\n",
       "    </tr>\n",
       "    <tr>\n",
       "      <th>tax</th>\n",
       "      <td>506.0</td>\n",
       "      <td>408.237154</td>\n",
       "      <td>168.537116</td>\n",
       "      <td>187.00000</td>\n",
       "      <td>279.0000</td>\n",
       "      <td>330.000000</td>\n",
       "      <td>666.000000</td>\n",
       "      <td>711.00000</td>\n",
       "    </tr>\n",
       "    <tr>\n",
       "      <th>pt_ ratio</th>\n",
       "      <td>506.0</td>\n",
       "      <td>18.455534</td>\n",
       "      <td>2.164946</td>\n",
       "      <td>12.60000</td>\n",
       "      <td>17.4000</td>\n",
       "      <td>19.050000</td>\n",
       "      <td>20.200000</td>\n",
       "      <td>22.00000</td>\n",
       "    </tr>\n",
       "    <tr>\n",
       "      <th>b_ estimator</th>\n",
       "      <td>506.0</td>\n",
       "      <td>356.674032</td>\n",
       "      <td>91.294864</td>\n",
       "      <td>0.32000</td>\n",
       "      <td>375.3775</td>\n",
       "      <td>391.440000</td>\n",
       "      <td>396.225000</td>\n",
       "      <td>396.90000</td>\n",
       "    </tr>\n",
       "    <tr>\n",
       "      <th>pop_ status</th>\n",
       "      <td>506.0</td>\n",
       "      <td>12.653063</td>\n",
       "      <td>7.141062</td>\n",
       "      <td>1.73000</td>\n",
       "      <td>6.9500</td>\n",
       "      <td>11.360000</td>\n",
       "      <td>16.955000</td>\n",
       "      <td>37.97000</td>\n",
       "    </tr>\n",
       "    <tr>\n",
       "      <th>price</th>\n",
       "      <td>506.0</td>\n",
       "      <td>22.532806</td>\n",
       "      <td>9.197104</td>\n",
       "      <td>5.00000</td>\n",
       "      <td>17.0250</td>\n",
       "      <td>21.200000</td>\n",
       "      <td>25.000000</td>\n",
       "      <td>50.00000</td>\n",
       "    </tr>\n",
       "  </tbody>\n",
       "</table>\n",
       "</div>"
      ],
      "text/plain": [
       "               count        mean         std        min       25%         50%  \\\n",
       "crime_ rate    506.0    1.716290    2.653510    0.00632    0.0819    0.250895   \n",
       "zoned_ land    506.0   11.363636   23.322453    0.00000    0.0000    0.000000   \n",
       "industry       506.0   11.136779    6.860353    0.46000    5.1900    9.690000   \n",
       "bounds_ river  506.0    0.069170    0.253994    0.00000    0.0000    0.000000   \n",
       "nox_ conc      506.0    0.554695    0.115878    0.38500    0.4490    0.538000   \n",
       " rooms         506.0    6.284634    0.702617    3.56100    5.8855    6.208500   \n",
       " age           506.0   68.574901   28.148861    2.90000   45.0250   77.500000   \n",
       " distance      506.0    3.696228    1.999689    0.58570    2.0737    3.107300   \n",
       " highways      506.0    4.332016    1.417166    1.00000    4.0000    4.000000   \n",
       " tax           506.0  408.237154  168.537116  187.00000  279.0000  330.000000   \n",
       "pt_ ratio      506.0   18.455534    2.164946   12.60000   17.4000   19.050000   \n",
       "b_ estimator   506.0  356.674032   91.294864    0.32000  375.3775  391.440000   \n",
       "pop_ status    506.0   12.653063    7.141062    1.73000    6.9500   11.360000   \n",
       "price          506.0   22.532806    9.197104    5.00000   17.0250   21.200000   \n",
       "\n",
       "                      75%        max  \n",
       "crime_ rate      2.326718    9.96654  \n",
       "zoned_ land     12.500000  100.00000  \n",
       "industry        18.100000   27.74000  \n",
       "bounds_ river    0.000000    1.00000  \n",
       "nox_ conc        0.624000    0.87100  \n",
       " rooms           6.623500    8.78000  \n",
       " age            94.075000  100.00000  \n",
       " distance        5.112625    9.22290  \n",
       " highways        5.000000    8.00000  \n",
       " tax           666.000000  711.00000  \n",
       "pt_ ratio       20.200000   22.00000  \n",
       "b_ estimator   396.225000  396.90000  \n",
       "pop_ status     16.955000   37.97000  \n",
       "price           25.000000   50.00000  "
      ]
     },
     "execution_count": 10,
     "metadata": {},
     "output_type": "execute_result"
    }
   ],
   "source": [
    "housing.describe().T"
   ]
  },
  {
   "cell_type": "code",
   "execution_count": 12,
   "metadata": {},
   "outputs": [
    {
     "data": {
      "text/plain": [
       "(506, 14)"
      ]
     },
     "execution_count": 12,
     "metadata": {},
     "output_type": "execute_result"
    }
   ],
   "source": [
    "housing.shape"
   ]
  },
  {
   "cell_type": "code",
   "execution_count": null,
   "metadata": {},
   "outputs": [],
   "source": []
  },
  {
   "cell_type": "markdown",
   "metadata": {},
   "source": [
    "Тук трябва да има дълъг процес по изследване на данните още преди да започнем да ги обработваме. Има ли нулеви стойности, Какво е съдържанието на колоните. Цените например какво е отношението при тях. Има ли корелации между променливите и какви, линейни ли са връзките м/у променливите ит.н. За да обосновем защо ще използваме линейна регресия при моделирането."
   ]
  },
  {
   "cell_type": "code",
   "execution_count": 16,
   "metadata": {},
   "outputs": [],
   "source": [
    "housing_prices = housing.price"
   ]
  },
  {
   "cell_type": "code",
   "execution_count": 17,
   "metadata": {},
   "outputs": [],
   "source": [
    "housing_attributes = housing.drop('price', axis=1)"
   ]
  },
  {
   "cell_type": "code",
   "execution_count": 18,
   "metadata": {},
   "outputs": [
    {
     "data": {
      "text/plain": [
       "((506, 13), (506,))"
      ]
     },
     "execution_count": 18,
     "metadata": {},
     "output_type": "execute_result"
    }
   ],
   "source": [
    "housing_attributes.shape, housing_prices.shape"
   ]
  },
  {
   "cell_type": "markdown",
   "metadata": {},
   "source": [
    "### Скалираме данните"
   ]
  },
  {
   "cell_type": "code",
   "execution_count": 20,
   "metadata": {},
   "outputs": [
    {
     "data": {
      "text/plain": [
       "MinMaxScaler()"
      ]
     },
     "execution_count": 20,
     "metadata": {},
     "output_type": "execute_result"
    }
   ],
   "source": [
    "scaler = MinMaxScaler()\n",
    "scaler.fit(housing_attributes)"
   ]
  },
  {
   "cell_type": "code",
   "execution_count": 22,
   "metadata": {},
   "outputs": [],
   "source": [
    "housing_attributes_scaled = scaler.transform(housing_attributes)"
   ]
  },
  {
   "cell_type": "code",
   "execution_count": 38,
   "metadata": {},
   "outputs": [
    {
     "data": {
      "text/html": [
       "<div>\n",
       "<style scoped>\n",
       "    .dataframe tbody tr th:only-of-type {\n",
       "        vertical-align: middle;\n",
       "    }\n",
       "\n",
       "    .dataframe tbody tr th {\n",
       "        vertical-align: top;\n",
       "    }\n",
       "\n",
       "    .dataframe thead th {\n",
       "        text-align: right;\n",
       "    }\n",
       "</style>\n",
       "<table border=\"1\" class=\"dataframe\">\n",
       "  <thead>\n",
       "    <tr style=\"text-align: right;\">\n",
       "      <th></th>\n",
       "      <th>crime_ rate</th>\n",
       "      <th>zoned_ land</th>\n",
       "      <th>industry</th>\n",
       "      <th>bounds_ river</th>\n",
       "      <th>nox_ conc</th>\n",
       "      <th>rooms</th>\n",
       "      <th>age</th>\n",
       "      <th>distance</th>\n",
       "      <th>highways</th>\n",
       "      <th>tax</th>\n",
       "      <th>pt_ ratio</th>\n",
       "      <th>b_ estimator</th>\n",
       "      <th>pop_ status</th>\n",
       "    </tr>\n",
       "  </thead>\n",
       "  <tbody>\n",
       "    <tr>\n",
       "      <th>0</th>\n",
       "      <td>0.00632</td>\n",
       "      <td>18.0</td>\n",
       "      <td>2.31</td>\n",
       "      <td>0</td>\n",
       "      <td>0.538</td>\n",
       "      <td>6.575</td>\n",
       "      <td>65.2</td>\n",
       "      <td>4.0900</td>\n",
       "      <td>1</td>\n",
       "      <td>296.0</td>\n",
       "      <td>15.3</td>\n",
       "      <td>396.90</td>\n",
       "      <td>4.98</td>\n",
       "    </tr>\n",
       "    <tr>\n",
       "      <th>1</th>\n",
       "      <td>0.02731</td>\n",
       "      <td>0.0</td>\n",
       "      <td>7.07</td>\n",
       "      <td>0</td>\n",
       "      <td>0.469</td>\n",
       "      <td>6.421</td>\n",
       "      <td>78.9</td>\n",
       "      <td>4.9671</td>\n",
       "      <td>2</td>\n",
       "      <td>242.0</td>\n",
       "      <td>17.8</td>\n",
       "      <td>396.90</td>\n",
       "      <td>9.14</td>\n",
       "    </tr>\n",
       "    <tr>\n",
       "      <th>2</th>\n",
       "      <td>0.02729</td>\n",
       "      <td>0.0</td>\n",
       "      <td>7.07</td>\n",
       "      <td>0</td>\n",
       "      <td>0.469</td>\n",
       "      <td>7.185</td>\n",
       "      <td>61.1</td>\n",
       "      <td>4.9671</td>\n",
       "      <td>2</td>\n",
       "      <td>242.0</td>\n",
       "      <td>17.8</td>\n",
       "      <td>392.83</td>\n",
       "      <td>4.03</td>\n",
       "    </tr>\n",
       "    <tr>\n",
       "      <th>3</th>\n",
       "      <td>0.03237</td>\n",
       "      <td>0.0</td>\n",
       "      <td>2.18</td>\n",
       "      <td>0</td>\n",
       "      <td>0.458</td>\n",
       "      <td>6.998</td>\n",
       "      <td>45.8</td>\n",
       "      <td>6.0622</td>\n",
       "      <td>3</td>\n",
       "      <td>222.0</td>\n",
       "      <td>18.7</td>\n",
       "      <td>394.63</td>\n",
       "      <td>2.94</td>\n",
       "    </tr>\n",
       "    <tr>\n",
       "      <th>4</th>\n",
       "      <td>0.06905</td>\n",
       "      <td>0.0</td>\n",
       "      <td>2.18</td>\n",
       "      <td>0</td>\n",
       "      <td>0.458</td>\n",
       "      <td>7.147</td>\n",
       "      <td>54.2</td>\n",
       "      <td>6.0622</td>\n",
       "      <td>3</td>\n",
       "      <td>222.0</td>\n",
       "      <td>18.7</td>\n",
       "      <td>396.90</td>\n",
       "      <td>5.33</td>\n",
       "    </tr>\n",
       "  </tbody>\n",
       "</table>\n",
       "</div>"
      ],
      "text/plain": [
       "   crime_ rate  zoned_ land  industry   bounds_ river  nox_ conc   rooms  \\\n",
       "0      0.00632         18.0       2.31              0      0.538   6.575   \n",
       "1      0.02731          0.0       7.07              0      0.469   6.421   \n",
       "2      0.02729          0.0       7.07              0      0.469   7.185   \n",
       "3      0.03237          0.0       2.18              0      0.458   6.998   \n",
       "4      0.06905          0.0       2.18              0      0.458   7.147   \n",
       "\n",
       "    age   distance   highways    tax  pt_ ratio  b_ estimator  pop_ status  \n",
       "0  65.2     4.0900          1  296.0       15.3        396.90         4.98  \n",
       "1  78.9     4.9671          2  242.0       17.8        396.90         9.14  \n",
       "2  61.1     4.9671          2  242.0       17.8        392.83         4.03  \n",
       "3  45.8     6.0622          3  222.0       18.7        394.63         2.94  \n",
       "4  54.2     6.0622          3  222.0       18.7        396.90         5.33  "
      ]
     },
     "execution_count": 38,
     "metadata": {},
     "output_type": "execute_result"
    }
   ],
   "source": [
    "housing_attributes.head(5)"
   ]
  },
  {
   "cell_type": "code",
   "execution_count": 24,
   "metadata": {},
   "outputs": [
    {
     "data": {
      "text/plain": [
       "array([0., 0., 0., 0., 0., 0., 0., 0., 0., 0., 0., 0., 0.])"
      ]
     },
     "execution_count": 24,
     "metadata": {},
     "output_type": "execute_result"
    }
   ],
   "source": [
    "# проверяваме минималната стойност по колони\n",
    "housing_attributes_scaled.min(axis=0)"
   ]
  },
  {
   "cell_type": "code",
   "execution_count": 26,
   "metadata": {},
   "outputs": [
    {
     "data": {
      "text/plain": [
       "array([1., 1., 1., 1., 1., 1., 1., 1., 1., 1., 1., 1., 1.])"
      ]
     },
     "execution_count": 26,
     "metadata": {},
     "output_type": "execute_result"
    }
   ],
   "source": [
    "# проверяваме максималната стойност по колони\n",
    "housing_attributes_scaled.max(axis=0)"
   ]
  },
  {
   "cell_type": "code",
   "execution_count": 27,
   "metadata": {},
   "outputs": [
    {
     "data": {
      "text/plain": [
       "array([0.17167998, 0.11363636, 0.39137752, 0.06916996, 0.34916679,\n",
       "       0.52186901, 0.67636355, 0.36013158, 0.47600226, 0.42220831,\n",
       "       0.62292911, 0.89856783, 0.30140903])"
      ]
     },
     "execution_count": 27,
     "metadata": {},
     "output_type": "execute_result"
    }
   ],
   "source": [
    "# проверяваме средната стойност по колони\n",
    "housing_attributes_scaled.mean(axis=0)"
   ]
  },
  {
   "cell_type": "markdown",
   "metadata": {},
   "source": [
    "### Създаваме модела, който да обучим с наличните ни данни"
   ]
  },
  {
   "cell_type": "code",
   "execution_count": 29,
   "metadata": {},
   "outputs": [
    {
     "data": {
      "text/plain": [
       "LinearRegression()"
      ]
     },
     "execution_count": 29,
     "metadata": {},
     "output_type": "execute_result"
    }
   ],
   "source": [
    "linear_regression = LinearRegression()\n",
    "linear_regression.fit(housing_attributes_scaled, housing_prices)"
   ]
  },
  {
   "cell_type": "code",
   "execution_count": 30,
   "metadata": {},
   "outputs": [
    {
     "data": {
      "text/plain": [
       "array([  2.08448854,   1.49403979,   0.34690497,   3.00565375,\n",
       "        -7.54441381,  22.43940145,   0.27658754,  -9.35981793,\n",
       "         1.35281035,  -1.26826011,  -9.07603108,   3.74177288,\n",
       "       -19.03479847])"
      ]
     },
     "execution_count": 30,
     "metadata": {},
     "output_type": "execute_result"
    }
   ],
   "source": [
    "linear_regression.coef_"
   ]
  },
  {
   "cell_type": "code",
   "execution_count": 31,
   "metadata": {},
   "outputs": [
    {
     "data": {
      "text/plain": [
       "23.689291534676947"
      ]
     },
     "execution_count": 31,
     "metadata": {},
     "output_type": "execute_result"
    }
   ],
   "source": [
    "linear_regression.intercept_"
   ]
  },
  {
   "cell_type": "code",
   "execution_count": 35,
   "metadata": {},
   "outputs": [
    {
     "data": {
      "text/plain": [
       "array([[0.        , 0.18      , 0.06781525, 0.        , 0.31481481,\n",
       "        0.57750527, 0.64160659, 0.40572176, 0.        , 0.20801527,\n",
       "        0.28723404, 1.        , 0.08967991],\n",
       "       [0.00210738, 0.        , 0.24230205, 0.        , 0.17283951,\n",
       "        0.5479977 , 0.78269825, 0.50727087, 0.14285714, 0.10496183,\n",
       "        0.55319149, 1.        , 0.2044702 ],\n",
       "       [0.00210538, 0.        , 0.24230205, 0.        , 0.17283951,\n",
       "        0.6943859 , 0.59938208, 0.50727087, 0.14285714, 0.10496183,\n",
       "        0.55319149, 0.98973725, 0.06346578],\n",
       "       [0.0026154 , 0.        , 0.06304985, 0.        , 0.15020576,\n",
       "        0.65855528, 0.44181256, 0.63405965, 0.28571429, 0.06679389,\n",
       "        0.64893617, 0.99427606, 0.03338852],\n",
       "       [0.00629805, 0.        , 0.06304985, 0.        , 0.15020576,\n",
       "        0.68710481, 0.52832132, 0.63405965, 0.28571429, 0.06679389,\n",
       "        0.64893617, 1.        , 0.09933775],\n",
       "       [0.0023624 , 0.        , 0.06304985, 0.        , 0.15020576,\n",
       "        0.54972217, 0.57466529, 0.63405965, 0.28571429, 0.06679389,\n",
       "        0.64893617, 0.99299007, 0.09602649],\n",
       "       [0.00822974, 0.125     , 0.27162757, 0.        , 0.28600823,\n",
       "        0.4696302 , 0.65602472, 0.5759737 , 0.57142857, 0.23664122,\n",
       "        0.27659574, 0.99672197, 0.29525386],\n",
       "       [0.01387821, 0.125     , 0.27162757, 0.        , 0.28600823,\n",
       "        0.50028741, 0.95983522, 0.62112722, 0.57142857, 0.23664122,\n",
       "        0.27659574, 1.        , 0.48068433],\n",
       "       [0.02057384, 0.125     , 0.27162757, 0.        , 0.28600823,\n",
       "        0.39662771, 1.        , 0.63636364, 0.57142857, 0.23664122,\n",
       "        0.27659574, 0.97410359, 0.7781457 ],\n",
       "       [0.01643739, 0.125     , 0.27162757, 0.        , 0.28600823,\n",
       "        0.46809734, 0.85478888, 0.69541055, 0.57142857, 0.23664122,\n",
       "        0.27659574, 0.97430531, 0.424117  ]])"
      ]
     },
     "execution_count": 35,
     "metadata": {},
     "output_type": "execute_result"
    }
   ],
   "source": [
    "# взимаме 10 записа от скалираните данни. ако е само един запис го правим на вектор стълб с ressape(-1,1)\n",
    "housing_attributes_scaled[0:10] "
   ]
  },
  {
   "cell_type": "markdown",
   "metadata": {},
   "source": [
    "Подаваме тези 10 записа на обучения вече модел, за да видим резултатите, като ги сверяваме с нашия таргет/изх.променлива/у"
   ]
  },
  {
   "cell_type": "code",
   "execution_count": 34,
   "metadata": {},
   "outputs": [
    {
     "data": {
      "text/plain": [
       "array([30.10947333, 25.12810976, 31.00785588, 29.04535626, 28.48368175,\n",
       "       25.44231142, 23.23025545, 20.07399474, 11.87137324, 19.61327434])"
      ]
     },
     "execution_count": 34,
     "metadata": {},
     "output_type": "execute_result"
    }
   ],
   "source": [
    "linear_regression.predict(housing_attributes_scaled[0:10])"
   ]
  },
  {
   "cell_type": "code",
   "execution_count": 36,
   "metadata": {},
   "outputs": [
    {
     "data": {
      "text/plain": [
       "0    24.0\n",
       "1    21.6\n",
       "2    34.7\n",
       "3    33.4\n",
       "4    36.2\n",
       "5    28.7\n",
       "6    22.9\n",
       "7    27.1\n",
       "8    16.5\n",
       "9    18.9\n",
       "Name: price, dtype: float64"
      ]
     },
     "execution_count": 36,
     "metadata": {},
     "output_type": "execute_result"
    }
   ],
   "source": [
    "prices[0:10]"
   ]
  },
  {
   "cell_type": "code",
   "execution_count": 39,
   "metadata": {},
   "outputs": [
    {
     "data": {
      "text/plain": [
       "array([24. , 21.6, 34.7, 33.4, 36.2, 28.7, 22.9, 27.1, 16.5, 18.9])"
      ]
     },
     "execution_count": 39,
     "metadata": {},
     "output_type": "execute_result"
    }
   ],
   "source": [
    "prices[0:10].values"
   ]
  },
  {
   "cell_type": "code",
   "execution_count": 40,
   "metadata": {},
   "outputs": [
    {
     "data": {
      "text/plain": [
       "array([24. , 21.6, 34.7, 33.4, 36.2, 28.7, 22.9, 27.1, 16.5, 18.9])"
      ]
     },
     "execution_count": 40,
     "metadata": {},
     "output_type": "execute_result"
    }
   ],
   "source": [
    "housing_prices[0:10].values"
   ]
  },
  {
   "cell_type": "markdown",
   "metadata": {},
   "source": [
    "Може и със случайна извадка да направим същото като скалираните данни връщаме в дейтафрейм"
   ]
  },
  {
   "cell_type": "code",
   "execution_count": 44,
   "metadata": {},
   "outputs": [],
   "source": [
    "random_sample = pd.DataFrame(housing_attributes_scaled).sample(10)"
   ]
  },
  {
   "cell_type": "code",
   "execution_count": 45,
   "metadata": {},
   "outputs": [
    {
     "data": {
      "text/html": [
       "<div>\n",
       "<style scoped>\n",
       "    .dataframe tbody tr th:only-of-type {\n",
       "        vertical-align: middle;\n",
       "    }\n",
       "\n",
       "    .dataframe tbody tr th {\n",
       "        vertical-align: top;\n",
       "    }\n",
       "\n",
       "    .dataframe thead th {\n",
       "        text-align: right;\n",
       "    }\n",
       "</style>\n",
       "<table border=\"1\" class=\"dataframe\">\n",
       "  <thead>\n",
       "    <tr style=\"text-align: right;\">\n",
       "      <th></th>\n",
       "      <th>0</th>\n",
       "      <th>1</th>\n",
       "      <th>2</th>\n",
       "      <th>3</th>\n",
       "      <th>4</th>\n",
       "      <th>5</th>\n",
       "      <th>6</th>\n",
       "      <th>7</th>\n",
       "      <th>8</th>\n",
       "      <th>9</th>\n",
       "      <th>10</th>\n",
       "      <th>11</th>\n",
       "      <th>12</th>\n",
       "    </tr>\n",
       "  </thead>\n",
       "  <tbody>\n",
       "    <tr>\n",
       "      <th>389</th>\n",
       "      <td>0.817795</td>\n",
       "      <td>0.000</td>\n",
       "      <td>0.646628</td>\n",
       "      <td>0.0</td>\n",
       "      <td>0.648148</td>\n",
       "      <td>0.350450</td>\n",
       "      <td>0.988671</td>\n",
       "      <td>0.132265</td>\n",
       "      <td>0.428571</td>\n",
       "      <td>0.914122</td>\n",
       "      <td>0.808511</td>\n",
       "      <td>1.000000</td>\n",
       "      <td>0.527594</td>\n",
       "    </tr>\n",
       "    <tr>\n",
       "      <th>353</th>\n",
       "      <td>0.001081</td>\n",
       "      <td>0.900</td>\n",
       "      <td>0.057185</td>\n",
       "      <td>0.0</td>\n",
       "      <td>0.051440</td>\n",
       "      <td>0.606821</td>\n",
       "      <td>0.341916</td>\n",
       "      <td>0.178391</td>\n",
       "      <td>0.571429</td>\n",
       "      <td>0.000000</td>\n",
       "      <td>0.468085</td>\n",
       "      <td>0.968632</td>\n",
       "      <td>0.076435</td>\n",
       "    </tr>\n",
       "    <tr>\n",
       "      <th>160</th>\n",
       "      <td>0.127220</td>\n",
       "      <td>0.000</td>\n",
       "      <td>0.700880</td>\n",
       "      <td>1.0</td>\n",
       "      <td>0.452675</td>\n",
       "      <td>0.515233</td>\n",
       "      <td>0.923790</td>\n",
       "      <td>0.140404</td>\n",
       "      <td>0.571429</td>\n",
       "      <td>0.412214</td>\n",
       "      <td>0.223404</td>\n",
       "      <td>0.853800</td>\n",
       "      <td>0.104029</td>\n",
       "    </tr>\n",
       "    <tr>\n",
       "      <th>404</th>\n",
       "      <td>0.152896</td>\n",
       "      <td>0.000</td>\n",
       "      <td>0.646628</td>\n",
       "      <td>0.0</td>\n",
       "      <td>0.633745</td>\n",
       "      <td>0.377467</td>\n",
       "      <td>0.849640</td>\n",
       "      <td>0.118291</td>\n",
       "      <td>0.428571</td>\n",
       "      <td>0.914122</td>\n",
       "      <td>0.808511</td>\n",
       "      <td>0.829946</td>\n",
       "      <td>0.707781</td>\n",
       "    </tr>\n",
       "    <tr>\n",
       "      <th>357</th>\n",
       "      <td>0.385873</td>\n",
       "      <td>0.000</td>\n",
       "      <td>0.646628</td>\n",
       "      <td>1.0</td>\n",
       "      <td>0.792181</td>\n",
       "      <td>0.543016</td>\n",
       "      <td>0.907312</td>\n",
       "      <td>0.222236</td>\n",
       "      <td>0.428571</td>\n",
       "      <td>0.914122</td>\n",
       "      <td>0.808511</td>\n",
       "      <td>0.985980</td>\n",
       "      <td>0.318433</td>\n",
       "    </tr>\n",
       "    <tr>\n",
       "      <th>286</th>\n",
       "      <td>0.001338</td>\n",
       "      <td>0.800</td>\n",
       "      <td>0.047654</td>\n",
       "      <td>0.0</td>\n",
       "      <td>0.000000</td>\n",
       "      <td>0.511401</td>\n",
       "      <td>0.294542</td>\n",
       "      <td>0.984520</td>\n",
       "      <td>0.000000</td>\n",
       "      <td>0.103053</td>\n",
       "      <td>0.595745</td>\n",
       "      <td>0.860558</td>\n",
       "      <td>0.309051</td>\n",
       "    </tr>\n",
       "    <tr>\n",
       "      <th>457</th>\n",
       "      <td>0.822699</td>\n",
       "      <td>0.000</td>\n",
       "      <td>0.646628</td>\n",
       "      <td>0.0</td>\n",
       "      <td>0.674897</td>\n",
       "      <td>0.455068</td>\n",
       "      <td>0.797116</td>\n",
       "      <td>0.253960</td>\n",
       "      <td>0.428571</td>\n",
       "      <td>0.914122</td>\n",
       "      <td>0.808511</td>\n",
       "      <td>0.008019</td>\n",
       "      <td>0.419702</td>\n",
       "    </tr>\n",
       "    <tr>\n",
       "      <th>11</th>\n",
       "      <td>0.011159</td>\n",
       "      <td>0.125</td>\n",
       "      <td>0.271628</td>\n",
       "      <td>0.0</td>\n",
       "      <td>0.286008</td>\n",
       "      <td>0.469055</td>\n",
       "      <td>0.823893</td>\n",
       "      <td>0.653105</td>\n",
       "      <td>0.571429</td>\n",
       "      <td>0.236641</td>\n",
       "      <td>0.276596</td>\n",
       "      <td>1.000000</td>\n",
       "      <td>0.318433</td>\n",
       "    </tr>\n",
       "    <tr>\n",
       "      <th>229</th>\n",
       "      <td>0.043720</td>\n",
       "      <td>0.000</td>\n",
       "      <td>0.210411</td>\n",
       "      <td>0.0</td>\n",
       "      <td>0.244856</td>\n",
       "      <td>0.573098</td>\n",
       "      <td>0.190525</td>\n",
       "      <td>0.322952</td>\n",
       "      <td>1.000000</td>\n",
       "      <td>0.229008</td>\n",
       "      <td>0.510638</td>\n",
       "      <td>0.958243</td>\n",
       "      <td>0.056015</td>\n",
       "    </tr>\n",
       "    <tr>\n",
       "      <th>120</th>\n",
       "      <td>0.006292</td>\n",
       "      <td>0.000</td>\n",
       "      <td>0.923387</td>\n",
       "      <td>0.0</td>\n",
       "      <td>0.403292</td>\n",
       "      <td>0.442422</td>\n",
       "      <td>0.687951</td>\n",
       "      <td>0.193581</td>\n",
       "      <td>0.142857</td>\n",
       "      <td>0.001908</td>\n",
       "      <td>0.691489</td>\n",
       "      <td>0.980458</td>\n",
       "      <td>0.348786</td>\n",
       "    </tr>\n",
       "  </tbody>\n",
       "</table>\n",
       "</div>"
      ],
      "text/plain": [
       "           0      1         2    3         4         5         6         7   \\\n",
       "389  0.817795  0.000  0.646628  0.0  0.648148  0.350450  0.988671  0.132265   \n",
       "353  0.001081  0.900  0.057185  0.0  0.051440  0.606821  0.341916  0.178391   \n",
       "160  0.127220  0.000  0.700880  1.0  0.452675  0.515233  0.923790  0.140404   \n",
       "404  0.152896  0.000  0.646628  0.0  0.633745  0.377467  0.849640  0.118291   \n",
       "357  0.385873  0.000  0.646628  1.0  0.792181  0.543016  0.907312  0.222236   \n",
       "286  0.001338  0.800  0.047654  0.0  0.000000  0.511401  0.294542  0.984520   \n",
       "457  0.822699  0.000  0.646628  0.0  0.674897  0.455068  0.797116  0.253960   \n",
       "11   0.011159  0.125  0.271628  0.0  0.286008  0.469055  0.823893  0.653105   \n",
       "229  0.043720  0.000  0.210411  0.0  0.244856  0.573098  0.190525  0.322952   \n",
       "120  0.006292  0.000  0.923387  0.0  0.403292  0.442422  0.687951  0.193581   \n",
       "\n",
       "           8         9         10        11        12  \n",
       "389  0.428571  0.914122  0.808511  1.000000  0.527594  \n",
       "353  0.571429  0.000000  0.468085  0.968632  0.076435  \n",
       "160  0.571429  0.412214  0.223404  0.853800  0.104029  \n",
       "404  0.428571  0.914122  0.808511  0.829946  0.707781  \n",
       "357  0.428571  0.914122  0.808511  0.985980  0.318433  \n",
       "286  0.000000  0.103053  0.595745  0.860558  0.309051  \n",
       "457  0.428571  0.914122  0.808511  0.008019  0.419702  \n",
       "11   0.571429  0.236641  0.276596  1.000000  0.318433  \n",
       "229  1.000000  0.229008  0.510638  0.958243  0.056015  \n",
       "120  0.142857  0.001908  0.691489  0.980458  0.348786  "
      ]
     },
     "execution_count": 45,
     "metadata": {},
     "output_type": "execute_result"
    }
   ],
   "source": [
    "random_sample"
   ]
  },
  {
   "cell_type": "code",
   "execution_count": 46,
   "metadata": {},
   "outputs": [
    {
     "data": {
      "text/plain": [
       "array([13.40926268, 35.4036552 , 33.72814848,  8.7643957 , 21.81325626,\n",
       "       19.0455002 , 12.71514783, 22.11901895, 30.8431165 , 20.23064941])"
      ]
     },
     "execution_count": 46,
     "metadata": {},
     "output_type": "execute_result"
    }
   ],
   "source": [
    "linear_regression.predict(random_sample)"
   ]
  },
  {
   "cell_type": "code",
   "execution_count": 49,
   "metadata": {},
   "outputs": [
    {
     "data": {
      "text/plain": [
       "array([11.5, 30.1, 27. ,  8.5, 21.7, 20.1, 13.5, 18.9, 31.5, 22. ])"
      ]
     },
     "execution_count": 49,
     "metadata": {},
     "output_type": "execute_result"
    }
   ],
   "source": [
    "housing_prices.loc[random_sample.index].values"
   ]
  },
  {
   "cell_type": "code",
   "execution_count": 58,
   "metadata": {},
   "outputs": [
    {
     "data": {
      "text/plain": [
       "0.7198065414937174"
      ]
     },
     "execution_count": 58,
     "metadata": {},
     "output_type": "execute_result"
    }
   ],
   "source": [
    "linear_regression.score(housing_attributes_scaled, housing_prices)"
   ]
  },
  {
   "cell_type": "code",
   "execution_count": null,
   "metadata": {},
   "outputs": [],
   "source": []
  },
  {
   "cell_type": "code",
   "execution_count": 53,
   "metadata": {},
   "outputs": [],
   "source": [
    "ransac = RANSACRegressor()"
   ]
  },
  {
   "cell_type": "code",
   "execution_count": 54,
   "metadata": {},
   "outputs": [
    {
     "data": {
      "text/plain": [
       "RANSACRegressor()"
      ]
     },
     "execution_count": 54,
     "metadata": {},
     "output_type": "execute_result"
    }
   ],
   "source": [
    "ransac.fit(housing_attributes_scaled, housing_prices)"
   ]
  },
  {
   "cell_type": "code",
   "execution_count": 55,
   "metadata": {},
   "outputs": [
    {
     "data": {
      "text/plain": [
       "array([  5.53099151,   0.71289054,  -2.80160002,   0.43322147,\n",
       "        -0.85480161,  20.76967452,  -0.06189361, -11.14806505,\n",
       "        -1.21092268,  -4.96259202,  -9.96162749,   3.45156472,\n",
       "       -19.05135435])"
      ]
     },
     "execution_count": 55,
     "metadata": {},
     "output_type": "execute_result"
    }
   ],
   "source": [
    "ransac.estimator_.coef_"
   ]
  },
  {
   "cell_type": "code",
   "execution_count": 56,
   "metadata": {},
   "outputs": [
    {
     "data": {
      "text/plain": [
       "27.571833326297607"
      ]
     },
     "execution_count": 56,
     "metadata": {},
     "output_type": "execute_result"
    }
   ],
   "source": [
    "ransac.estimator_.intercept_"
   ]
  },
  {
   "cell_type": "code",
   "execution_count": 57,
   "metadata": {},
   "outputs": [
    {
     "data": {
      "text/plain": [
       "0.6866008258637762"
      ]
     },
     "execution_count": 57,
     "metadata": {},
     "output_type": "execute_result"
    }
   ],
   "source": [
    "ransac.score(housing_attributes_scaled, housing_prices)"
   ]
  },
  {
   "cell_type": "code",
   "execution_count": 59,
   "metadata": {},
   "outputs": [
    {
     "data": {
      "text/plain": [
       "array([False, False,  True,  True, False,  True,  True, False, False,\n",
       "        True, False, False,  True,  True,  True,  True,  True,  True,\n",
       "        True,  True,  True,  True,  True,  True,  True,  True,  True,\n",
       "        True,  True,  True,  True, False, False,  True,  True, False,\n",
       "        True,  True,  True,  True, False,  True,  True,  True,  True,\n",
       "        True,  True,  True, False,  True,  True,  True,  True,  True,\n",
       "       False, False,  True,  True, False,  True,  True,  True,  True,\n",
       "       False, False,  True,  True,  True,  True,  True,  True,  True,\n",
       "        True,  True,  True,  True,  True,  True,  True,  True,  True,\n",
       "        True,  True,  True,  True,  True,  True, False, False, False,\n",
       "       False, False,  True,  True, False,  True, False,  True, False,\n",
       "        True,  True,  True,  True,  True,  True,  True,  True,  True,\n",
       "        True,  True,  True, False,  True,  True, False,  True,  True,\n",
       "       False,  True,  True,  True,  True,  True,  True,  True,  True,\n",
       "        True,  True,  True,  True,  True,  True,  True,  True,  True,\n",
       "        True,  True,  True,  True,  True,  True, False, False, False,\n",
       "        True, False, False,  True,  True, False, False, False, False,\n",
       "       False, False, False, False, False, False, False, False, False,\n",
       "       False, False, False, False, False,  True, False, False, False,\n",
       "       False,  True, False, False,  True,  True, False,  True,  True,\n",
       "        True, False,  True,  True,  True,  True, False,  True,  True,\n",
       "        True, False,  True, False,  True,  True, False,  True,  True,\n",
       "        True, False, False, False, False, False, False,  True,  True,\n",
       "       False, False, False,  True, False,  True,  True, False,  True,\n",
       "        True,  True,  True, False,  True,  True,  True,  True, False,\n",
       "       False,  True,  True, False,  True,  True,  True, False, False,\n",
       "        True,  True,  True,  True,  True,  True,  True,  True,  True,\n",
       "        True,  True, False, False,  True, False, False,  True,  True,\n",
       "       False, False,  True,  True, False,  True, False, False, False,\n",
       "        True, False, False,  True, False, False, False,  True,  True,\n",
       "        True,  True,  True, False,  True,  True,  True,  True,  True,\n",
       "        True, False,  True, False, False,  True, False,  True,  True,\n",
       "        True,  True,  True, False,  True,  True,  True,  True,  True,\n",
       "        True, False,  True,  True, False,  True,  True, False,  True,\n",
       "        True,  True, False, False, False, False, False, False,  True,\n",
       "       False,  True,  True,  True,  True,  True,  True,  True,  True,\n",
       "        True,  True,  True,  True,  True,  True,  True,  True, False,\n",
       "        True,  True,  True,  True,  True,  True,  True,  True,  True,\n",
       "       False,  True, False,  True,  True,  True,  True, False,  True,\n",
       "       False, False, False, False, False,  True,  True,  True,  True,\n",
       "        True,  True,  True,  True, False, False, False, False, False,\n",
       "       False, False, False, False, False, False, False,  True, False,\n",
       "        True, False, False, False, False,  True, False,  True,  True,\n",
       "        True,  True, False, False, False,  True, False, False, False,\n",
       "       False, False, False, False, False, False, False, False,  True,\n",
       "       False, False, False,  True, False, False,  True, False,  True,\n",
       "       False, False,  True,  True, False, False,  True, False,  True,\n",
       "        True, False, False, False, False, False, False, False,  True,\n",
       "       False, False, False,  True, False,  True,  True, False,  True,\n",
       "       False,  True, False,  True,  True, False, False, False, False,\n",
       "       False, False,  True, False, False,  True,  True, False, False,\n",
       "        True,  True,  True,  True,  True,  True, False, False, False,\n",
       "        True, False,  True,  True, False, False, False,  True,  True,\n",
       "        True,  True,  True,  True,  True,  True, False, False,  True,\n",
       "        True,  True,  True,  True, False,  True, False,  True,  True,\n",
       "       False, False,  True,  True,  True, False,  True,  True, False,\n",
       "       False, False])"
      ]
     },
     "execution_count": 59,
     "metadata": {},
     "output_type": "execute_result"
    }
   ],
   "source": [
    "ransac.inlier_mask_"
   ]
  },
  {
   "cell_type": "code",
   "execution_count": 62,
   "metadata": {},
   "outputs": [],
   "source": [
    "inliers = housing_attributes_scaled[ransac.inlier_mask_]\n",
    "outliers = housing_attributes_scaled[~ransac.inlier_mask_]"
   ]
  },
  {
   "cell_type": "code",
   "execution_count": 64,
   "metadata": {},
   "outputs": [
    {
     "data": {
      "text/plain": [
       "0.9219398710484017"
      ]
     },
     "execution_count": 64,
     "metadata": {},
     "output_type": "execute_result"
    }
   ],
   "source": [
    "ransac.score(inliers, housing_prices.loc[ransac.inlier_mask_])"
   ]
  },
  {
   "cell_type": "code",
   "execution_count": 66,
   "metadata": {},
   "outputs": [
    {
     "data": {
      "text/plain": [
       "0.5793736087379613"
      ]
     },
     "execution_count": 66,
     "metadata": {},
     "output_type": "execute_result"
    }
   ],
   "source": [
    "ransac.score(outliers, housing_prices.loc[~ransac.inlier_mask_])"
   ]
  },
  {
   "cell_type": "code",
   "execution_count": 67,
   "metadata": {},
   "outputs": [],
   "source": [
    "polynomials_features = PolynomialFeatures()"
   ]
  },
  {
   "cell_type": "code",
   "execution_count": 69,
   "metadata": {},
   "outputs": [],
   "source": [
    "housing_attributes_scaled_poly = polynomials_features.fit_transform(housing_attributes_scaled)"
   ]
  },
  {
   "cell_type": "code",
   "execution_count": 72,
   "metadata": {},
   "outputs": [
    {
     "data": {
      "text/plain": [
       "LinearRegression()"
      ]
     },
     "execution_count": 72,
     "metadata": {},
     "output_type": "execute_result"
    }
   ],
   "source": [
    "quadratic_regretion = LinearRegression()\n",
    "quadratic_regretion.fit(housing_attributes_scaled_poly, housing_prices)"
   ]
  },
  {
   "cell_type": "code",
   "execution_count": 73,
   "metadata": {},
   "outputs": [
    {
     "data": {
      "text/plain": [
       "0.8527926535083148"
      ]
     },
     "execution_count": 73,
     "metadata": {},
     "output_type": "execute_result"
    }
   ],
   "source": [
    "quadratic_regretion.score(housing_attributes_scaled_poly, housing_prices)"
   ]
  },
  {
   "cell_type": "code",
   "execution_count": 78,
   "metadata": {},
   "outputs": [],
   "source": [
    "iris = pd.read_csv('https://archive.ics.uci.edu/ml/machine-learning-databases/iris/iris.data', header=None)\n",
    "iris.columns = ['sepal_length', 'sepal_width', 'petal_length', 'petal_width', 'class']"
   ]
  },
  {
   "cell_type": "code",
   "execution_count": 79,
   "metadata": {},
   "outputs": [
    {
     "data": {
      "text/html": [
       "<div>\n",
       "<style scoped>\n",
       "    .dataframe tbody tr th:only-of-type {\n",
       "        vertical-align: middle;\n",
       "    }\n",
       "\n",
       "    .dataframe tbody tr th {\n",
       "        vertical-align: top;\n",
       "    }\n",
       "\n",
       "    .dataframe thead th {\n",
       "        text-align: right;\n",
       "    }\n",
       "</style>\n",
       "<table border=\"1\" class=\"dataframe\">\n",
       "  <thead>\n",
       "    <tr style=\"text-align: right;\">\n",
       "      <th></th>\n",
       "      <th>sepal_length</th>\n",
       "      <th>sepal_width</th>\n",
       "      <th>petal_length</th>\n",
       "      <th>petal_width</th>\n",
       "      <th>class</th>\n",
       "    </tr>\n",
       "  </thead>\n",
       "  <tbody>\n",
       "    <tr>\n",
       "      <th>0</th>\n",
       "      <td>5.1</td>\n",
       "      <td>3.5</td>\n",
       "      <td>1.4</td>\n",
       "      <td>0.2</td>\n",
       "      <td>Iris-setosa</td>\n",
       "    </tr>\n",
       "    <tr>\n",
       "      <th>1</th>\n",
       "      <td>4.9</td>\n",
       "      <td>3.0</td>\n",
       "      <td>1.4</td>\n",
       "      <td>0.2</td>\n",
       "      <td>Iris-setosa</td>\n",
       "    </tr>\n",
       "    <tr>\n",
       "      <th>2</th>\n",
       "      <td>4.7</td>\n",
       "      <td>3.2</td>\n",
       "      <td>1.3</td>\n",
       "      <td>0.2</td>\n",
       "      <td>Iris-setosa</td>\n",
       "    </tr>\n",
       "    <tr>\n",
       "      <th>3</th>\n",
       "      <td>4.6</td>\n",
       "      <td>3.1</td>\n",
       "      <td>1.5</td>\n",
       "      <td>0.2</td>\n",
       "      <td>Iris-setosa</td>\n",
       "    </tr>\n",
       "    <tr>\n",
       "      <th>4</th>\n",
       "      <td>5.0</td>\n",
       "      <td>3.6</td>\n",
       "      <td>1.4</td>\n",
       "      <td>0.2</td>\n",
       "      <td>Iris-setosa</td>\n",
       "    </tr>\n",
       "    <tr>\n",
       "      <th>...</th>\n",
       "      <td>...</td>\n",
       "      <td>...</td>\n",
       "      <td>...</td>\n",
       "      <td>...</td>\n",
       "      <td>...</td>\n",
       "    </tr>\n",
       "    <tr>\n",
       "      <th>145</th>\n",
       "      <td>6.7</td>\n",
       "      <td>3.0</td>\n",
       "      <td>5.2</td>\n",
       "      <td>2.3</td>\n",
       "      <td>Iris-virginica</td>\n",
       "    </tr>\n",
       "    <tr>\n",
       "      <th>146</th>\n",
       "      <td>6.3</td>\n",
       "      <td>2.5</td>\n",
       "      <td>5.0</td>\n",
       "      <td>1.9</td>\n",
       "      <td>Iris-virginica</td>\n",
       "    </tr>\n",
       "    <tr>\n",
       "      <th>147</th>\n",
       "      <td>6.5</td>\n",
       "      <td>3.0</td>\n",
       "      <td>5.2</td>\n",
       "      <td>2.0</td>\n",
       "      <td>Iris-virginica</td>\n",
       "    </tr>\n",
       "    <tr>\n",
       "      <th>148</th>\n",
       "      <td>6.2</td>\n",
       "      <td>3.4</td>\n",
       "      <td>5.4</td>\n",
       "      <td>2.3</td>\n",
       "      <td>Iris-virginica</td>\n",
       "    </tr>\n",
       "    <tr>\n",
       "      <th>149</th>\n",
       "      <td>5.9</td>\n",
       "      <td>3.0</td>\n",
       "      <td>5.1</td>\n",
       "      <td>1.8</td>\n",
       "      <td>Iris-virginica</td>\n",
       "    </tr>\n",
       "  </tbody>\n",
       "</table>\n",
       "<p>150 rows × 5 columns</p>\n",
       "</div>"
      ],
      "text/plain": [
       "     sepal_length  sepal_width  petal_length  petal_width           class\n",
       "0             5.1          3.5           1.4          0.2     Iris-setosa\n",
       "1             4.9          3.0           1.4          0.2     Iris-setosa\n",
       "2             4.7          3.2           1.3          0.2     Iris-setosa\n",
       "3             4.6          3.1           1.5          0.2     Iris-setosa\n",
       "4             5.0          3.6           1.4          0.2     Iris-setosa\n",
       "..            ...          ...           ...          ...             ...\n",
       "145           6.7          3.0           5.2          2.3  Iris-virginica\n",
       "146           6.3          2.5           5.0          1.9  Iris-virginica\n",
       "147           6.5          3.0           5.2          2.0  Iris-virginica\n",
       "148           6.2          3.4           5.4          2.3  Iris-virginica\n",
       "149           5.9          3.0           5.1          1.8  Iris-virginica\n",
       "\n",
       "[150 rows x 5 columns]"
      ]
     },
     "execution_count": 79,
     "metadata": {},
     "output_type": "execute_result"
    }
   ],
   "source": [
    "iris"
   ]
  },
  {
   "cell_type": "code",
   "execution_count": 84,
   "metadata": {},
   "outputs": [],
   "source": [
    "iris_attributes = iris.drop('class', axis=1)\n",
    "iris_classes = iris['class']"
   ]
  },
  {
   "cell_type": "code",
   "execution_count": 85,
   "metadata": {},
   "outputs": [],
   "source": [
    "iris_attributes_scaled = MinMaxScaler().fit_transform(iris_atributes)"
   ]
  },
  {
   "cell_type": "code",
   "execution_count": 86,
   "metadata": {},
   "outputs": [],
   "source": [
    "logistic_regression = LogisticRegression(C=1e9)"
   ]
  },
  {
   "cell_type": "code",
   "execution_count": 88,
   "metadata": {},
   "outputs": [
    {
     "data": {
      "text/plain": [
       "LogisticRegression(C=1000000000.0)"
      ]
     },
     "execution_count": 88,
     "metadata": {},
     "output_type": "execute_result"
    }
   ],
   "source": [
    "logistic_regression.fit(iris_attributes_scaled, iris_classes)"
   ]
  },
  {
   "cell_type": "code",
   "execution_count": 89,
   "metadata": {},
   "outputs": [
    {
     "data": {
      "text/plain": [
       "array([[-18.29679129,  29.19813694, -37.89417388, -38.3219437 ],\n",
       "       [ 13.58611302,  -6.58018128,  -8.87560643,  -2.78717031],\n",
       "       [  4.71067827, -22.61795566,  46.76978031,  41.10911401]])"
      ]
     },
     "execution_count": 89,
     "metadata": {},
     "output_type": "execute_result"
    }
   ],
   "source": [
    "logistic_regression.coef_"
   ]
  },
  {
   "cell_type": "code",
   "execution_count": 90,
   "metadata": {},
   "outputs": [
    {
     "data": {
      "text/plain": [
       "array([ 25.9014194 ,  14.7266206 , -40.62803999])"
      ]
     },
     "execution_count": 90,
     "metadata": {},
     "output_type": "execute_result"
    }
   ],
   "source": [
    "logistic_regression.intercept_"
   ]
  },
  {
   "cell_type": "code",
   "execution_count": 91,
   "metadata": {},
   "outputs": [
    {
     "data": {
      "text/plain": [
       "0.9866666666666667"
      ]
     },
     "execution_count": 91,
     "metadata": {},
     "output_type": "execute_result"
    }
   ],
   "source": [
    "logistic_regression.score(iris_attributes_scaled, iris_classes)"
   ]
  },
  {
   "cell_type": "code",
   "execution_count": 92,
   "metadata": {},
   "outputs": [
    {
     "data": {
      "text/plain": [
       "array([[1.00000000e+00, 2.22222222e-01, 6.25000000e-01, ...,\n",
       "        5.77244430e-10, 3.54764806e-10, 2.18032537e-10],\n",
       "       [1.00000000e+00, 1.66666667e-01, 4.16666667e-01, ...,\n",
       "        5.77244430e-10, 3.54764806e-10, 2.18032537e-10],\n",
       "       [1.00000000e+00, 1.11111111e-01, 5.00000000e-01, ...,\n",
       "        3.24699992e-10, 2.66073604e-10, 2.18032537e-10],\n",
       "       ...,\n",
       "       [1.00000000e+00, 6.11111111e-01, 4.16666667e-01, ...,\n",
       "        1.57581908e-01, 1.75247340e-01, 1.94893123e-01],\n",
       "       [1.00000000e+00, 5.27777778e-01, 5.83333333e-01, ...,\n",
       "        3.59963549e-01, 4.42455196e-01, 5.43851178e-01],\n",
       "       [1.00000000e+00, 4.44444444e-01, 4.16666667e-01, ...,\n",
       "        8.61097024e-02, 8.77723898e-02, 8.94671819e-02]])"
      ]
     },
     "execution_count": 92,
     "metadata": {},
     "output_type": "execute_result"
    }
   ],
   "source": [
    "PolynomialFeatures(degree=7).fit_transform(iris_attributes_scaled)"
   ]
  },
  {
   "cell_type": "code",
   "execution_count": 98,
   "metadata": {},
   "outputs": [
    {
     "data": {
      "text/html": [
       "<div>\n",
       "<style scoped>\n",
       "    .dataframe tbody tr th:only-of-type {\n",
       "        vertical-align: middle;\n",
       "    }\n",
       "\n",
       "    .dataframe tbody tr th {\n",
       "        vertical-align: top;\n",
       "    }\n",
       "\n",
       "    .dataframe thead th {\n",
       "        text-align: right;\n",
       "    }\n",
       "</style>\n",
       "<table border=\"1\" class=\"dataframe\">\n",
       "  <thead>\n",
       "    <tr style=\"text-align: right;\">\n",
       "      <th></th>\n",
       "      <th>text</th>\n",
       "      <th>author</th>\n",
       "      <th>tags</th>\n",
       "    </tr>\n",
       "  </thead>\n",
       "  <tbody>\n",
       "    <tr>\n",
       "      <th>0</th>\n",
       "      <td>“The world as we have created it is a process ...</td>\n",
       "      <td>Albert Einstein</td>\n",
       "      <td>[change, deep-thoughts, thinking, world]</td>\n",
       "    </tr>\n",
       "    <tr>\n",
       "      <th>1</th>\n",
       "      <td>“It is our choices, Harry, that show what we t...</td>\n",
       "      <td>J.K. Rowling</td>\n",
       "      <td>[abilities, choices]</td>\n",
       "    </tr>\n",
       "    <tr>\n",
       "      <th>2</th>\n",
       "      <td>“There are only two ways to live your life. On...</td>\n",
       "      <td>Albert Einstein</td>\n",
       "      <td>[inspirational, life, live, miracle, miracles]</td>\n",
       "    </tr>\n",
       "    <tr>\n",
       "      <th>3</th>\n",
       "      <td>“The person, be it gentleman or lady, who has ...</td>\n",
       "      <td>Jane Austen</td>\n",
       "      <td>[aliteracy, books, classic, humor]</td>\n",
       "    </tr>\n",
       "    <tr>\n",
       "      <th>4</th>\n",
       "      <td>“Imperfection is beauty, madness is genius and...</td>\n",
       "      <td>Marilyn Monroe</td>\n",
       "      <td>[be-yourself, inspirational]</td>\n",
       "    </tr>\n",
       "    <tr>\n",
       "      <th>5</th>\n",
       "      <td>“Try not to become a man of success. Rather be...</td>\n",
       "      <td>Albert Einstein</td>\n",
       "      <td>[adulthood, success, value]</td>\n",
       "    </tr>\n",
       "    <tr>\n",
       "      <th>6</th>\n",
       "      <td>“It is better to be hated for what you are tha...</td>\n",
       "      <td>André Gide</td>\n",
       "      <td>[life, love]</td>\n",
       "    </tr>\n",
       "    <tr>\n",
       "      <th>7</th>\n",
       "      <td>“I have not failed. I've just found 10,000 way...</td>\n",
       "      <td>Thomas A. Edison</td>\n",
       "      <td>[edison, failure, inspirational, paraphrased]</td>\n",
       "    </tr>\n",
       "    <tr>\n",
       "      <th>8</th>\n",
       "      <td>“A woman is like a tea bag; you never know how...</td>\n",
       "      <td>Eleanor Roosevelt</td>\n",
       "      <td>[misattributed-eleanor-roosevelt]</td>\n",
       "    </tr>\n",
       "    <tr>\n",
       "      <th>9</th>\n",
       "      <td>“A day without sunshine is like, you know, nig...</td>\n",
       "      <td>Steve Martin</td>\n",
       "      <td>[humor, obvious, simile]</td>\n",
       "    </tr>\n",
       "    <tr>\n",
       "      <th>10</th>\n",
       "      <td>“This life is what you make it. No matter what...</td>\n",
       "      <td>Marilyn Monroe</td>\n",
       "      <td>[friends, heartbreak, inspirational, life, lov...</td>\n",
       "    </tr>\n",
       "    <tr>\n",
       "      <th>11</th>\n",
       "      <td>“It takes a great deal of bravery to stand up ...</td>\n",
       "      <td>J.K. Rowling</td>\n",
       "      <td>[courage, friends]</td>\n",
       "    </tr>\n",
       "    <tr>\n",
       "      <th>12</th>\n",
       "      <td>“If you can't explain it to a six year old, yo...</td>\n",
       "      <td>Albert Einstein</td>\n",
       "      <td>[simplicity, understand]</td>\n",
       "    </tr>\n",
       "    <tr>\n",
       "      <th>13</th>\n",
       "      <td>“You may not be her first, her last, or her on...</td>\n",
       "      <td>Bob Marley</td>\n",
       "      <td>[love]</td>\n",
       "    </tr>\n",
       "    <tr>\n",
       "      <th>14</th>\n",
       "      <td>“I like nonsense, it wakes up the brain cells....</td>\n",
       "      <td>Dr. Seuss</td>\n",
       "      <td>[fantasy]</td>\n",
       "    </tr>\n",
       "    <tr>\n",
       "      <th>15</th>\n",
       "      <td>“I may not have gone where I intended to go, b...</td>\n",
       "      <td>Douglas Adams</td>\n",
       "      <td>[life, navigation]</td>\n",
       "    </tr>\n",
       "    <tr>\n",
       "      <th>16</th>\n",
       "      <td>“The opposite of love is not hate, it's indiff...</td>\n",
       "      <td>Elie Wiesel</td>\n",
       "      <td>[activism, apathy, hate, indifference, inspira...</td>\n",
       "    </tr>\n",
       "    <tr>\n",
       "      <th>17</th>\n",
       "      <td>“It is not a lack of love, but a lack of frien...</td>\n",
       "      <td>Friedrich Nietzsche</td>\n",
       "      <td>[friendship, lack-of-friendship, lack-of-love,...</td>\n",
       "    </tr>\n",
       "    <tr>\n",
       "      <th>18</th>\n",
       "      <td>“Good friends, good books, and a sleepy consci...</td>\n",
       "      <td>Mark Twain</td>\n",
       "      <td>[books, contentment, friends, friendship, life]</td>\n",
       "    </tr>\n",
       "    <tr>\n",
       "      <th>19</th>\n",
       "      <td>“Life is what happens to us while we are makin...</td>\n",
       "      <td>Allen Saunders</td>\n",
       "      <td>[fate, life, misattributed-john-lennon, planni...</td>\n",
       "    </tr>\n",
       "  </tbody>\n",
       "</table>\n",
       "</div>"
      ],
      "text/plain": [
       "                                                 text               author  \\\n",
       "0   “The world as we have created it is a process ...      Albert Einstein   \n",
       "1   “It is our choices, Harry, that show what we t...         J.K. Rowling   \n",
       "2   “There are only two ways to live your life. On...      Albert Einstein   \n",
       "3   “The person, be it gentleman or lady, who has ...          Jane Austen   \n",
       "4   “Imperfection is beauty, madness is genius and...       Marilyn Monroe   \n",
       "5   “Try not to become a man of success. Rather be...      Albert Einstein   \n",
       "6   “It is better to be hated for what you are tha...           André Gide   \n",
       "7   “I have not failed. I've just found 10,000 way...     Thomas A. Edison   \n",
       "8   “A woman is like a tea bag; you never know how...    Eleanor Roosevelt   \n",
       "9   “A day without sunshine is like, you know, nig...         Steve Martin   \n",
       "10  “This life is what you make it. No matter what...       Marilyn Monroe   \n",
       "11  “It takes a great deal of bravery to stand up ...         J.K. Rowling   \n",
       "12  “If you can't explain it to a six year old, yo...      Albert Einstein   \n",
       "13  “You may not be her first, her last, or her on...           Bob Marley   \n",
       "14  “I like nonsense, it wakes up the brain cells....            Dr. Seuss   \n",
       "15  “I may not have gone where I intended to go, b...        Douglas Adams   \n",
       "16  “The opposite of love is not hate, it's indiff...          Elie Wiesel   \n",
       "17  “It is not a lack of love, but a lack of frien...  Friedrich Nietzsche   \n",
       "18  “Good friends, good books, and a sleepy consci...           Mark Twain   \n",
       "19  “Life is what happens to us while we are makin...       Allen Saunders   \n",
       "\n",
       "                                                 tags  \n",
       "0            [change, deep-thoughts, thinking, world]  \n",
       "1                                [abilities, choices]  \n",
       "2      [inspirational, life, live, miracle, miracles]  \n",
       "3                  [aliteracy, books, classic, humor]  \n",
       "4                        [be-yourself, inspirational]  \n",
       "5                         [adulthood, success, value]  \n",
       "6                                        [life, love]  \n",
       "7       [edison, failure, inspirational, paraphrased]  \n",
       "8                   [misattributed-eleanor-roosevelt]  \n",
       "9                            [humor, obvious, simile]  \n",
       "10  [friends, heartbreak, inspirational, life, lov...  \n",
       "11                                 [courage, friends]  \n",
       "12                           [simplicity, understand]  \n",
       "13                                             [love]  \n",
       "14                                          [fantasy]  \n",
       "15                                 [life, navigation]  \n",
       "16  [activism, apathy, hate, indifference, inspira...  \n",
       "17  [friendship, lack-of-friendship, lack-of-love,...  \n",
       "18    [books, contentment, friends, friendship, life]  \n",
       "19  [fate, life, misattributed-john-lennon, planni...  "
      ]
     },
     "execution_count": 98,
     "metadata": {},
     "output_type": "execute_result"
    }
   ],
   "source": [
    "pd.read_json('quotes.json')"
   ]
  },
  {
   "cell_type": "code",
   "execution_count": 109,
   "metadata": {},
   "outputs": [],
   "source": [
    "imot = pd.read_json('imot.json')"
   ]
  },
  {
   "cell_type": "code",
   "execution_count": 110,
   "metadata": {},
   "outputs": [
    {
     "data": {
      "text/plain": [
       "(161, 3)"
      ]
     },
     "execution_count": 110,
     "metadata": {},
     "output_type": "execute_result"
    }
   ],
   "source": [
    "imot.shape"
   ]
  },
  {
   "cell_type": "code",
   "execution_count": 115,
   "metadata": {},
   "outputs": [],
   "source": [
    "imot = imot.dropna()"
   ]
  },
  {
   "cell_type": "code",
   "execution_count": 116,
   "metadata": {},
   "outputs": [
    {
     "data": {
      "text/plain": [
       "(41, 3)"
      ]
     },
     "execution_count": 116,
     "metadata": {},
     "output_type": "execute_result"
    }
   ],
   "source": [
    "imot.shape"
   ]
  },
  {
   "cell_type": "code",
   "execution_count": 119,
   "metadata": {},
   "outputs": [
    {
     "data": {
      "text/html": [
       "<div>\n",
       "<style scoped>\n",
       "    .dataframe tbody tr th:only-of-type {\n",
       "        vertical-align: middle;\n",
       "    }\n",
       "\n",
       "    .dataframe tbody tr th {\n",
       "        vertical-align: top;\n",
       "    }\n",
       "\n",
       "    .dataframe thead th {\n",
       "        text-align: right;\n",
       "    }\n",
       "</style>\n",
       "<table border=\"1\" class=\"dataframe\">\n",
       "  <thead>\n",
       "    <tr style=\"text-align: right;\">\n",
       "      <th></th>\n",
       "      <th>type_of_im</th>\n",
       "      <th>address</th>\n",
       "      <th>price</th>\n",
       "    </tr>\n",
       "  </thead>\n",
       "  <tbody>\n",
       "    <tr>\n",
       "      <th>0</th>\n",
       "      <td>Продава 1-СТАЕН</td>\n",
       "      <td>град Пловдив, Въстанически</td>\n",
       "      <td>29 500 EUR</td>\n",
       "    </tr>\n",
       "    <tr>\n",
       "      <th>6</th>\n",
       "      <td>Продава 1-СТАЕН</td>\n",
       "      <td>град Пловдив, Въстанически</td>\n",
       "      <td>29 500 EUR</td>\n",
       "    </tr>\n",
       "    <tr>\n",
       "      <th>9</th>\n",
       "      <td>Продава 1-СТАЕН</td>\n",
       "      <td>град Пловдив, Каменица 2</td>\n",
       "      <td>38 000 EUR</td>\n",
       "    </tr>\n",
       "    <tr>\n",
       "      <th>12</th>\n",
       "      <td>Продава 1-СТАЕН</td>\n",
       "      <td>град Пловдив, Кършияка</td>\n",
       "      <td>23 310 EUR</td>\n",
       "    </tr>\n",
       "    <tr>\n",
       "      <th>15</th>\n",
       "      <td>Продава 1-СТАЕН</td>\n",
       "      <td>град Пловдив, Кършияка</td>\n",
       "      <td>28 199 EUR</td>\n",
       "    </tr>\n",
       "    <tr>\n",
       "      <th>18</th>\n",
       "      <td>Продава 1-СТАЕН</td>\n",
       "      <td>град Пловдив, Кючук Париж</td>\n",
       "      <td>20 213 EUR</td>\n",
       "    </tr>\n",
       "    <tr>\n",
       "      <th>21</th>\n",
       "      <td>Продава 1-СТАЕН</td>\n",
       "      <td>град Пловдив, Кючук Париж</td>\n",
       "      <td>21 126 EUR</td>\n",
       "    </tr>\n",
       "    <tr>\n",
       "      <th>24</th>\n",
       "      <td>Продава 1-СТАЕН</td>\n",
       "      <td>град Пловдив, Кючук Париж</td>\n",
       "      <td>21 199 EUR</td>\n",
       "    </tr>\n",
       "    <tr>\n",
       "      <th>27</th>\n",
       "      <td>Продава 1-СТАЕН</td>\n",
       "      <td>град Пловдив, Кючук Париж</td>\n",
       "      <td>22 680 EUR</td>\n",
       "    </tr>\n",
       "    <tr>\n",
       "      <th>30</th>\n",
       "      <td>Продава 1-СТАЕН</td>\n",
       "      <td>град Пловдив, Кючук Париж</td>\n",
       "      <td>24 300 EUR</td>\n",
       "    </tr>\n",
       "    <tr>\n",
       "      <th>33</th>\n",
       "      <td>Продава 1-СТАЕН</td>\n",
       "      <td>град Пловдив, Кючук Париж</td>\n",
       "      <td>26 240 EUR</td>\n",
       "    </tr>\n",
       "    <tr>\n",
       "      <th>36</th>\n",
       "      <td>Продава 1-СТАЕН</td>\n",
       "      <td>град Пловдив, Тракия</td>\n",
       "      <td>38 998 EUR</td>\n",
       "    </tr>\n",
       "    <tr>\n",
       "      <th>39</th>\n",
       "      <td>Продава 1-СТАЕН</td>\n",
       "      <td>град Пловдив, Тракия</td>\n",
       "      <td>38 999 EUR</td>\n",
       "    </tr>\n",
       "    <tr>\n",
       "      <th>42</th>\n",
       "      <td>Продава 1-СТАЕН</td>\n",
       "      <td>град Пловдив, Христо Смирненски</td>\n",
       "      <td>34 933 EUR</td>\n",
       "    </tr>\n",
       "    <tr>\n",
       "      <th>45</th>\n",
       "      <td>Продава 1-СТАЕН</td>\n",
       "      <td>град Пловдив, Център</td>\n",
       "      <td>34 270 EUR</td>\n",
       "    </tr>\n",
       "    <tr>\n",
       "      <th>48</th>\n",
       "      <td>Продава 1-СТАЕН</td>\n",
       "      <td>град Пловдив, Южен</td>\n",
       "      <td>23 134 EUR</td>\n",
       "    </tr>\n",
       "    <tr>\n",
       "      <th>51</th>\n",
       "      <td>Продава 2-СТАЕН</td>\n",
       "      <td>град Пловдив, Беломорски</td>\n",
       "      <td>55 663 EUR</td>\n",
       "    </tr>\n",
       "    <tr>\n",
       "      <th>54</th>\n",
       "      <td>Продава 2-СТАЕН</td>\n",
       "      <td>град Пловдив, Въстанически</td>\n",
       "      <td>37 510 EUR</td>\n",
       "    </tr>\n",
       "    <tr>\n",
       "      <th>57</th>\n",
       "      <td>Продава 2-СТАЕН</td>\n",
       "      <td>град Пловдив, Въстанически</td>\n",
       "      <td>38 400 EUR</td>\n",
       "    </tr>\n",
       "    <tr>\n",
       "      <th>60</th>\n",
       "      <td>Продава 2-СТАЕН</td>\n",
       "      <td>град Пловдив, Въстанически</td>\n",
       "      <td>39 900 EUR</td>\n",
       "    </tr>\n",
       "    <tr>\n",
       "      <th>63</th>\n",
       "      <td>Продава 2-СТАЕН</td>\n",
       "      <td>град Пловдив, Въстанически</td>\n",
       "      <td>44 900 EUR</td>\n",
       "    </tr>\n",
       "    <tr>\n",
       "      <th>66</th>\n",
       "      <td>Продава 2-СТАЕН</td>\n",
       "      <td>град Пловдив, Въстанически</td>\n",
       "      <td>47 900 EUR</td>\n",
       "    </tr>\n",
       "    <tr>\n",
       "      <th>69</th>\n",
       "      <td>Продава 2-СТАЕН</td>\n",
       "      <td>град Пловдив, Въстанически</td>\n",
       "      <td>48 500 EUR</td>\n",
       "    </tr>\n",
       "    <tr>\n",
       "      <th>72</th>\n",
       "      <td>Продава 2-СТАЕН</td>\n",
       "      <td>град Пловдив, Гагарин</td>\n",
       "      <td>53 900 EUR</td>\n",
       "    </tr>\n",
       "    <tr>\n",
       "      <th>75</th>\n",
       "      <td>Продава 2-СТАЕН</td>\n",
       "      <td>град Пловдив, Западен</td>\n",
       "      <td>58 968 EUR</td>\n",
       "    </tr>\n",
       "    <tr>\n",
       "      <th>78</th>\n",
       "      <td>Продава 2-СТАЕН</td>\n",
       "      <td>град Пловдив, Западен</td>\n",
       "      <td>65 969 EUR</td>\n",
       "    </tr>\n",
       "    <tr>\n",
       "      <th>81</th>\n",
       "      <td>Продава 2-СТАЕН</td>\n",
       "      <td>град Пловдив, Каменица 2</td>\n",
       "      <td>60 999 EUR</td>\n",
       "    </tr>\n",
       "    <tr>\n",
       "      <th>84</th>\n",
       "      <td>Продава 2-СТАЕН</td>\n",
       "      <td>град Пловдив, Каменица 2</td>\n",
       "      <td>63 000 EUR</td>\n",
       "    </tr>\n",
       "    <tr>\n",
       "      <th>87</th>\n",
       "      <td>Продава 2-СТАЕН</td>\n",
       "      <td>град Пловдив, Кършияка</td>\n",
       "      <td>41 400 EUR</td>\n",
       "    </tr>\n",
       "    <tr>\n",
       "      <th>90</th>\n",
       "      <td>Продава 2-СТАЕН</td>\n",
       "      <td>град Пловдив, Кършияка</td>\n",
       "      <td>42 210 EUR</td>\n",
       "    </tr>\n",
       "    <tr>\n",
       "      <th>93</th>\n",
       "      <td>Продава 2-СТАЕН</td>\n",
       "      <td>град Пловдив, Кършияка</td>\n",
       "      <td>50 999 EUR</td>\n",
       "    </tr>\n",
       "    <tr>\n",
       "      <th>96</th>\n",
       "      <td>Продава 2-СТАЕН</td>\n",
       "      <td>град Пловдив, Кършияка</td>\n",
       "      <td>51 800 EUR</td>\n",
       "    </tr>\n",
       "    <tr>\n",
       "      <th>99</th>\n",
       "      <td>Продава 2-СТАЕН</td>\n",
       "      <td>град Пловдив, Кършияка</td>\n",
       "      <td>57 999 EUR</td>\n",
       "    </tr>\n",
       "    <tr>\n",
       "      <th>102</th>\n",
       "      <td>Продава 2-СТАЕН</td>\n",
       "      <td>град Пловдив, Кършияка</td>\n",
       "      <td>58 500 EUR</td>\n",
       "    </tr>\n",
       "    <tr>\n",
       "      <th>105</th>\n",
       "      <td>Продава 2-СТАЕН</td>\n",
       "      <td>град Пловдив, Кършияка</td>\n",
       "      <td>59 000 EUR</td>\n",
       "    </tr>\n",
       "    <tr>\n",
       "      <th>108</th>\n",
       "      <td>Продава 2-СТАЕН</td>\n",
       "      <td>град Пловдив, Кършияка</td>\n",
       "      <td>59 998 EUR</td>\n",
       "    </tr>\n",
       "    <tr>\n",
       "      <th>111</th>\n",
       "      <td>Продава 2-СТАЕН</td>\n",
       "      <td>град Пловдив, Кършияка</td>\n",
       "      <td>67 800 EUR</td>\n",
       "    </tr>\n",
       "    <tr>\n",
       "      <th>114</th>\n",
       "      <td>Продава 2-СТАЕН</td>\n",
       "      <td>град Пловдив, Кършияка</td>\n",
       "      <td>76 498 EUR</td>\n",
       "    </tr>\n",
       "    <tr>\n",
       "      <th>117</th>\n",
       "      <td>Продава 2-СТАЕН</td>\n",
       "      <td>град Пловдив, Кючук Париж</td>\n",
       "      <td>36 521 EUR</td>\n",
       "    </tr>\n",
       "    <tr>\n",
       "      <th>120</th>\n",
       "      <td>Продава 2-СТАЕН</td>\n",
       "      <td>град Пловдив, Кючук Париж</td>\n",
       "      <td>36 522 EUR</td>\n",
       "    </tr>\n",
       "    <tr>\n",
       "      <th>123</th>\n",
       "      <td>Продава 2-СТАЕН</td>\n",
       "      <td>град Пловдив, Кючук Париж</td>\n",
       "      <td>36 675 EUR</td>\n",
       "    </tr>\n",
       "  </tbody>\n",
       "</table>\n",
       "</div>"
      ],
      "text/plain": [
       "          type_of_im                          address       price\n",
       "0    Продава 1-СТАЕН       град Пловдив, Въстанически  29 500 EUR\n",
       "6    Продава 1-СТАЕН       град Пловдив, Въстанически  29 500 EUR\n",
       "9    Продава 1-СТАЕН         град Пловдив, Каменица 2  38 000 EUR\n",
       "12   Продава 1-СТАЕН           град Пловдив, Кършияка  23 310 EUR\n",
       "15   Продава 1-СТАЕН           град Пловдив, Кършияка  28 199 EUR\n",
       "18   Продава 1-СТАЕН        град Пловдив, Кючук Париж  20 213 EUR\n",
       "21   Продава 1-СТАЕН        град Пловдив, Кючук Париж  21 126 EUR\n",
       "24   Продава 1-СТАЕН        град Пловдив, Кючук Париж  21 199 EUR\n",
       "27   Продава 1-СТАЕН        град Пловдив, Кючук Париж  22 680 EUR\n",
       "30   Продава 1-СТАЕН        град Пловдив, Кючук Париж  24 300 EUR\n",
       "33   Продава 1-СТАЕН        град Пловдив, Кючук Париж  26 240 EUR\n",
       "36   Продава 1-СТАЕН             град Пловдив, Тракия  38 998 EUR\n",
       "39   Продава 1-СТАЕН             град Пловдив, Тракия  38 999 EUR\n",
       "42   Продава 1-СТАЕН  град Пловдив, Христо Смирненски  34 933 EUR\n",
       "45   Продава 1-СТАЕН             град Пловдив, Център  34 270 EUR\n",
       "48   Продава 1-СТАЕН               град Пловдив, Южен  23 134 EUR\n",
       "51   Продава 2-СТАЕН         град Пловдив, Беломорски  55 663 EUR\n",
       "54   Продава 2-СТАЕН       град Пловдив, Въстанически  37 510 EUR\n",
       "57   Продава 2-СТАЕН       град Пловдив, Въстанически  38 400 EUR\n",
       "60   Продава 2-СТАЕН       град Пловдив, Въстанически  39 900 EUR\n",
       "63   Продава 2-СТАЕН       град Пловдив, Въстанически  44 900 EUR\n",
       "66   Продава 2-СТАЕН       град Пловдив, Въстанически  47 900 EUR\n",
       "69   Продава 2-СТАЕН       град Пловдив, Въстанически  48 500 EUR\n",
       "72   Продава 2-СТАЕН            град Пловдив, Гагарин  53 900 EUR\n",
       "75   Продава 2-СТАЕН            град Пловдив, Западен  58 968 EUR\n",
       "78   Продава 2-СТАЕН            град Пловдив, Западен  65 969 EUR\n",
       "81   Продава 2-СТАЕН         град Пловдив, Каменица 2  60 999 EUR\n",
       "84   Продава 2-СТАЕН         град Пловдив, Каменица 2  63 000 EUR\n",
       "87   Продава 2-СТАЕН           град Пловдив, Кършияка  41 400 EUR\n",
       "90   Продава 2-СТАЕН           град Пловдив, Кършияка  42 210 EUR\n",
       "93   Продава 2-СТАЕН           град Пловдив, Кършияка  50 999 EUR\n",
       "96   Продава 2-СТАЕН           град Пловдив, Кършияка  51 800 EUR\n",
       "99   Продава 2-СТАЕН           град Пловдив, Кършияка  57 999 EUR\n",
       "102  Продава 2-СТАЕН           град Пловдив, Кършияка  58 500 EUR\n",
       "105  Продава 2-СТАЕН           град Пловдив, Кършияка  59 000 EUR\n",
       "108  Продава 2-СТАЕН           град Пловдив, Кършияка  59 998 EUR\n",
       "111  Продава 2-СТАЕН           град Пловдив, Кършияка  67 800 EUR\n",
       "114  Продава 2-СТАЕН           град Пловдив, Кършияка  76 498 EUR\n",
       "117  Продава 2-СТАЕН        град Пловдив, Кючук Париж  36 521 EUR\n",
       "120  Продава 2-СТАЕН        град Пловдив, Кючук Париж  36 522 EUR\n",
       "123  Продава 2-СТАЕН        град Пловдив, Кючук Париж  36 675 EUR"
      ]
     },
     "execution_count": 119,
     "metadata": {},
     "output_type": "execute_result"
    }
   ],
   "source": [
    "imot"
   ]
  },
  {
   "cell_type": "code",
   "execution_count": null,
   "metadata": {},
   "outputs": [],
   "source": []
  }
 ],
 "metadata": {
  "kernelspec": {
   "display_name": "Python 3",
   "language": "python",
   "name": "python3"
  },
  "language_info": {
   "codemirror_mode": {
    "name": "ipython",
    "version": 3
   },
   "file_extension": ".py",
   "mimetype": "text/x-python",
   "name": "python",
   "nbconvert_exporter": "python",
   "pygments_lexer": "ipython3",
   "version": "3.8.5"
  }
 },
 "nbformat": 4,
 "nbformat_minor": 4
}
