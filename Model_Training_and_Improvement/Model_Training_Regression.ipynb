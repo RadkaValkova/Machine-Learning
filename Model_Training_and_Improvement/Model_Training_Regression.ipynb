{
 "cells": [
  {
   "cell_type": "code",
   "execution_count": 40,
   "metadata": {},
   "outputs": [],
   "source": [
    "%matplotlib inline"
   ]
  },
  {
   "cell_type": "code",
   "execution_count": 381,
   "metadata": {},
   "outputs": [],
   "source": [
    "import pandas as pd\n",
    "import numpy as np\n",
    "import matplotlib.pyplot as plt\n",
    "\n",
    "from sklearn.preprocessing import MinMaxScaler\n",
    "\n",
    "from sklearn.model_selection import train_test_split, GridSearchCV, KFold, cross_val_score\n",
    "\n",
    "from sklearn.linear_model import LinearRegression, Ridge, Lasso, ElasticNet\n",
    "\n",
    "from sklearn.metrics import mean_squared_error, r2_score\n",
    "from sklearn.metrics import accuracy_score, precision_score, recall_score, precision_recall_fscore_support, classification_report"
   ]
  },
  {
   "cell_type": "markdown",
   "metadata": {},
   "source": [
    "# Model Training Regretion"
   ]
  },
  {
   "cell_type": "markdown",
   "metadata": {},
   "source": [
    "### Read data, naming of columns"
   ]
  },
  {
   "cell_type": "code",
   "execution_count": 42,
   "metadata": {},
   "outputs": [],
   "source": [
    "mpg_data = pd.read_fwf('https://archive.ics.uci.edu/ml/machine-learning-databases/auto-mpg/auto-mpg.data', header=None, na_vals=['?'])"
   ]
  },
  {
   "cell_type": "code",
   "execution_count": 43,
   "metadata": {},
   "outputs": [],
   "source": [
    "mpg_data.columns = ['mpg', 'cylinders', 'displacement', 'horsepower', 'weight', 'acceleration', 'model_year', 'origin', 'car_name']"
   ]
  },
  {
   "cell_type": "markdown",
   "metadata": {},
   "source": [
    "### Observing and cleaning"
   ]
  },
  {
   "cell_type": "code",
   "execution_count": 44,
   "metadata": {},
   "outputs": [
    {
     "data": {
      "text/html": [
       "<div>\n",
       "<style scoped>\n",
       "    .dataframe tbody tr th:only-of-type {\n",
       "        vertical-align: middle;\n",
       "    }\n",
       "\n",
       "    .dataframe tbody tr th {\n",
       "        vertical-align: top;\n",
       "    }\n",
       "\n",
       "    .dataframe thead th {\n",
       "        text-align: right;\n",
       "    }\n",
       "</style>\n",
       "<table border=\"1\" class=\"dataframe\">\n",
       "  <thead>\n",
       "    <tr style=\"text-align: right;\">\n",
       "      <th></th>\n",
       "      <th>mpg</th>\n",
       "      <th>cylinders</th>\n",
       "      <th>displacement</th>\n",
       "      <th>horsepower</th>\n",
       "      <th>weight</th>\n",
       "      <th>acceleration</th>\n",
       "      <th>model_year</th>\n",
       "      <th>origin</th>\n",
       "      <th>car_name</th>\n",
       "    </tr>\n",
       "  </thead>\n",
       "  <tbody>\n",
       "    <tr>\n",
       "      <th>0</th>\n",
       "      <td>18.0</td>\n",
       "      <td>8</td>\n",
       "      <td>307.0</td>\n",
       "      <td>130.0</td>\n",
       "      <td>3504.0</td>\n",
       "      <td>12.0</td>\n",
       "      <td>70</td>\n",
       "      <td>1</td>\n",
       "      <td>\"chevrolet chevelle malibu\"</td>\n",
       "    </tr>\n",
       "    <tr>\n",
       "      <th>1</th>\n",
       "      <td>15.0</td>\n",
       "      <td>8</td>\n",
       "      <td>350.0</td>\n",
       "      <td>165.0</td>\n",
       "      <td>3693.0</td>\n",
       "      <td>11.5</td>\n",
       "      <td>70</td>\n",
       "      <td>1</td>\n",
       "      <td>\"buick skylark 320\"</td>\n",
       "    </tr>\n",
       "    <tr>\n",
       "      <th>2</th>\n",
       "      <td>18.0</td>\n",
       "      <td>8</td>\n",
       "      <td>318.0</td>\n",
       "      <td>150.0</td>\n",
       "      <td>3436.0</td>\n",
       "      <td>11.0</td>\n",
       "      <td>70</td>\n",
       "      <td>1</td>\n",
       "      <td>\"plymouth satellite\"</td>\n",
       "    </tr>\n",
       "    <tr>\n",
       "      <th>3</th>\n",
       "      <td>16.0</td>\n",
       "      <td>8</td>\n",
       "      <td>304.0</td>\n",
       "      <td>150.0</td>\n",
       "      <td>3433.0</td>\n",
       "      <td>12.0</td>\n",
       "      <td>70</td>\n",
       "      <td>1</td>\n",
       "      <td>\"amc rebel sst\"</td>\n",
       "    </tr>\n",
       "    <tr>\n",
       "      <th>4</th>\n",
       "      <td>17.0</td>\n",
       "      <td>8</td>\n",
       "      <td>302.0</td>\n",
       "      <td>140.0</td>\n",
       "      <td>3449.0</td>\n",
       "      <td>10.5</td>\n",
       "      <td>70</td>\n",
       "      <td>1</td>\n",
       "      <td>\"ford torino\"</td>\n",
       "    </tr>\n",
       "  </tbody>\n",
       "</table>\n",
       "</div>"
      ],
      "text/plain": [
       "    mpg  cylinders  displacement horsepower  weight  acceleration  model_year  \\\n",
       "0  18.0          8         307.0      130.0  3504.0          12.0          70   \n",
       "1  15.0          8         350.0      165.0  3693.0          11.5          70   \n",
       "2  18.0          8         318.0      150.0  3436.0          11.0          70   \n",
       "3  16.0          8         304.0      150.0  3433.0          12.0          70   \n",
       "4  17.0          8         302.0      140.0  3449.0          10.5          70   \n",
       "\n",
       "   origin                     car_name  \n",
       "0       1  \"chevrolet chevelle malibu\"  \n",
       "1       1          \"buick skylark 320\"  \n",
       "2       1         \"plymouth satellite\"  \n",
       "3       1              \"amc rebel sst\"  \n",
       "4       1                \"ford torino\"  "
      ]
     },
     "execution_count": 44,
     "metadata": {},
     "output_type": "execute_result"
    }
   ],
   "source": [
    "mpg_data.head()"
   ]
  },
  {
   "cell_type": "code",
   "execution_count": 45,
   "metadata": {},
   "outputs": [
    {
     "data": {
      "text/plain": [
       "(398, 9)"
      ]
     },
     "execution_count": 45,
     "metadata": {},
     "output_type": "execute_result"
    }
   ],
   "source": [
    "mpg_data.shape"
   ]
  },
  {
   "cell_type": "code",
   "execution_count": 46,
   "metadata": {},
   "outputs": [
    {
     "data": {
      "text/plain": [
       "mpg             float64\n",
       "cylinders         int64\n",
       "displacement    float64\n",
       "horsepower       object\n",
       "weight          float64\n",
       "acceleration    float64\n",
       "model_year        int64\n",
       "origin            int64\n",
       "car_name         object\n",
       "dtype: object"
      ]
     },
     "execution_count": 46,
     "metadata": {},
     "output_type": "execute_result"
    }
   ],
   "source": [
    "mpg_data.dtypes"
   ]
  },
  {
   "cell_type": "code",
   "execution_count": 47,
   "metadata": {},
   "outputs": [],
   "source": [
    "mpg_data = mpg_data.drop(mpg_data[mpg_data.horsepower == '?'].index)"
   ]
  },
  {
   "cell_type": "code",
   "execution_count": 48,
   "metadata": {},
   "outputs": [],
   "source": [
    "mpg_data.horsepower = mpg_data.horsepower.astype(np.float64)"
   ]
  },
  {
   "cell_type": "code",
   "execution_count": 49,
   "metadata": {},
   "outputs": [],
   "source": [
    "mpg_data = mpg_data.drop('car_name', axis=1)"
   ]
  },
  {
   "cell_type": "markdown",
   "metadata": {},
   "source": [
    "### Defining attributes and target, scaling of attributes"
   ]
  },
  {
   "cell_type": "code",
   "execution_count": 50,
   "metadata": {},
   "outputs": [],
   "source": [
    "mpg_data_atributes = mpg_data.drop('mpg', axis=1)\n",
    "mpg_data_target = mpg_data['mpg']"
   ]
  },
  {
   "cell_type": "code",
   "execution_count": 51,
   "metadata": {},
   "outputs": [
    {
     "data": {
      "text/html": [
       "<div>\n",
       "<style scoped>\n",
       "    .dataframe tbody tr th:only-of-type {\n",
       "        vertical-align: middle;\n",
       "    }\n",
       "\n",
       "    .dataframe tbody tr th {\n",
       "        vertical-align: top;\n",
       "    }\n",
       "\n",
       "    .dataframe thead th {\n",
       "        text-align: right;\n",
       "    }\n",
       "</style>\n",
       "<table border=\"1\" class=\"dataframe\">\n",
       "  <thead>\n",
       "    <tr style=\"text-align: right;\">\n",
       "      <th></th>\n",
       "      <th>cylinders</th>\n",
       "      <th>displacement</th>\n",
       "      <th>horsepower</th>\n",
       "      <th>weight</th>\n",
       "      <th>acceleration</th>\n",
       "      <th>model_year</th>\n",
       "      <th>origin</th>\n",
       "    </tr>\n",
       "  </thead>\n",
       "  <tbody>\n",
       "    <tr>\n",
       "      <th>0</th>\n",
       "      <td>8</td>\n",
       "      <td>307.0</td>\n",
       "      <td>130.0</td>\n",
       "      <td>3504.0</td>\n",
       "      <td>12.0</td>\n",
       "      <td>70</td>\n",
       "      <td>1</td>\n",
       "    </tr>\n",
       "    <tr>\n",
       "      <th>1</th>\n",
       "      <td>8</td>\n",
       "      <td>350.0</td>\n",
       "      <td>165.0</td>\n",
       "      <td>3693.0</td>\n",
       "      <td>11.5</td>\n",
       "      <td>70</td>\n",
       "      <td>1</td>\n",
       "    </tr>\n",
       "    <tr>\n",
       "      <th>2</th>\n",
       "      <td>8</td>\n",
       "      <td>318.0</td>\n",
       "      <td>150.0</td>\n",
       "      <td>3436.0</td>\n",
       "      <td>11.0</td>\n",
       "      <td>70</td>\n",
       "      <td>1</td>\n",
       "    </tr>\n",
       "    <tr>\n",
       "      <th>3</th>\n",
       "      <td>8</td>\n",
       "      <td>304.0</td>\n",
       "      <td>150.0</td>\n",
       "      <td>3433.0</td>\n",
       "      <td>12.0</td>\n",
       "      <td>70</td>\n",
       "      <td>1</td>\n",
       "    </tr>\n",
       "    <tr>\n",
       "      <th>4</th>\n",
       "      <td>8</td>\n",
       "      <td>302.0</td>\n",
       "      <td>140.0</td>\n",
       "      <td>3449.0</td>\n",
       "      <td>10.5</td>\n",
       "      <td>70</td>\n",
       "      <td>1</td>\n",
       "    </tr>\n",
       "  </tbody>\n",
       "</table>\n",
       "</div>"
      ],
      "text/plain": [
       "   cylinders  displacement  horsepower  weight  acceleration  model_year  \\\n",
       "0          8         307.0       130.0  3504.0          12.0          70   \n",
       "1          8         350.0       165.0  3693.0          11.5          70   \n",
       "2          8         318.0       150.0  3436.0          11.0          70   \n",
       "3          8         304.0       150.0  3433.0          12.0          70   \n",
       "4          8         302.0       140.0  3449.0          10.5          70   \n",
       "\n",
       "   origin  \n",
       "0       1  \n",
       "1       1  \n",
       "2       1  \n",
       "3       1  \n",
       "4       1  "
      ]
     },
     "execution_count": 51,
     "metadata": {},
     "output_type": "execute_result"
    }
   ],
   "source": [
    "mpg_data_atributes.head()"
   ]
  },
  {
   "cell_type": "code",
   "execution_count": 52,
   "metadata": {},
   "outputs": [],
   "source": [
    "# по принцим скалера се запазва в променива. тук не го правим\n",
    "mpg_data_atributes_scaled = MinMaxScaler().fit_transform(mpg_data_atributes)"
   ]
  },
  {
   "cell_type": "code",
   "execution_count": 53,
   "metadata": {},
   "outputs": [
    {
     "data": {
      "text/plain": [
       "(array([0., 0., 0., 0., 0., 0., 0.]), array([1., 1., 1., 1., 1., 1., 1.]))"
      ]
     },
     "execution_count": 53,
     "metadata": {},
     "output_type": "execute_result"
    }
   ],
   "source": [
    "mpg_data_atributes_scaled.min(axis=0), mpg_data_atributes_scaled.max(axis=0)"
   ]
  },
  {
   "cell_type": "markdown",
   "metadata": {},
   "source": [
    "### Create a model"
   ]
  },
  {
   "cell_type": "code",
   "execution_count": 54,
   "metadata": {},
   "outputs": [
    {
     "data": {
      "text/plain": [
       "LinearRegression()"
      ]
     },
     "execution_count": 54,
     "metadata": {},
     "output_type": "execute_result"
    }
   ],
   "source": [
    "linear_regression = LinearRegression()\n",
    "linear_regression.fit(mpg_data_atributes_scaled, mpg_data_target)"
   ]
  },
  {
   "cell_type": "code",
   "execution_count": 55,
   "metadata": {},
   "outputs": [
    {
     "data": {
      "text/plain": [
       "0.8214780764810597"
      ]
     },
     "execution_count": 55,
     "metadata": {},
     "output_type": "execute_result"
    }
   ],
   "source": [
    "linear_regression.score(mpg_data_atributes_scaled, mpg_data_target)"
   ]
  },
  {
   "cell_type": "code",
   "execution_count": 161,
   "metadata": {},
   "outputs": [
    {
     "data": {
      "text/plain": [
       "array([ -1.79818983,   6.1120602 ,  -5.16485976, -21.18236454,\n",
       "         0.692132  ,   8.90503197,   3.3475977 ])"
      ]
     },
     "execution_count": 161,
     "metadata": {},
     "output_type": "execute_result"
    }
   ],
   "source": [
    "linear_regression.coef_"
   ]
  },
  {
   "cell_type": "markdown",
   "metadata": {},
   "source": [
    "### Ridge regression L2"
   ]
  },
  {
   "cell_type": "code",
   "execution_count": 179,
   "metadata": {},
   "outputs": [
    {
     "data": {
      "text/plain": [
       "Ridge()"
      ]
     },
     "execution_count": 179,
     "metadata": {},
     "output_type": "execute_result"
    }
   ],
   "source": [
    "l2_regression = Ridge()\n",
    "l2_regression.fit(mpg_data_atributes_scaled, mpg_data_target)"
   ]
  },
  {
   "cell_type": "code",
   "execution_count": 180,
   "metadata": {},
   "outputs": [
    {
     "data": {
      "text/plain": [
       "0.8164896635931875"
      ]
     },
     "execution_count": 180,
     "metadata": {},
     "output_type": "execute_result"
    }
   ],
   "source": [
    "l2_regression.score(mpg_data_atributes_scaled, mpg_data_target)"
   ]
  },
  {
   "cell_type": "code",
   "execution_count": 181,
   "metadata": {},
   "outputs": [
    {
     "data": {
      "text/plain": [
       "array([ -2.07254505,   1.34709697,  -4.22762374, -15.91870549,\n",
       "        -0.3104336 ,   8.5058759 ,   2.7489514 ])"
      ]
     },
     "execution_count": 181,
     "metadata": {},
     "output_type": "execute_result"
    }
   ],
   "source": [
    "l2_regression.coef_"
   ]
  },
  {
   "cell_type": "code",
   "execution_count": 373,
   "metadata": {},
   "outputs": [
    {
     "data": {
      "text/plain": [
       "0.8214407166016684"
      ]
     },
     "execution_count": 373,
     "metadata": {},
     "output_type": "execute_result"
    }
   ],
   "source": [
    "l2_regression = Ridge(alpha=0.05)\n",
    "l2_regression.fit(mpg_data_atributes_scaled, mpg_data_target)\n",
    "l2_regression.score(mpg_data_atributes_scaled, mpg_data_target)"
   ]
  },
  {
   "cell_type": "code",
   "execution_count": 374,
   "metadata": {},
   "outputs": [
    {
     "data": {
      "text/plain": [
       "(array([ -2.37929977,   7.09048065,  -3.24014833, -22.2462324 ,\n",
       "          1.17508938,   8.97144398,   2.83860732]),\n",
       " 26.126525266907958)"
      ]
     },
     "execution_count": 374,
     "metadata": {},
     "output_type": "execute_result"
    }
   ],
   "source": [
    "l2_regression.coef_, l2_regression.intercept_"
   ]
  },
  {
   "cell_type": "code",
   "execution_count": null,
   "metadata": {},
   "outputs": [],
   "source": []
  },
  {
   "cell_type": "markdown",
   "metadata": {},
   "source": [
    "### Lasso regression L1 with different levels of regularisation"
   ]
  },
  {
   "cell_type": "code",
   "execution_count": 269,
   "metadata": {},
   "outputs": [
    {
     "data": {
      "text/plain": [
       "0.0"
      ]
     },
     "execution_count": 269,
     "metadata": {},
     "output_type": "execute_result"
    }
   ],
   "source": [
    "l1_regression = Lasso(alpha=10)\n",
    "l1_regression.fit(mpg_data_atributes_scaled, mpg_data_target)\n",
    "l1_regression.score(mpg_data_atributes_scaled, mpg_data_target)"
   ]
  },
  {
   "cell_type": "code",
   "execution_count": 270,
   "metadata": {},
   "outputs": [
    {
     "data": {
      "text/plain": [
       "([-0.0, -0.0, -0.0, -0.0, 0.0, 0.0, 0.0], 23.445918367346938)"
      ]
     },
     "execution_count": 270,
     "metadata": {},
     "output_type": "execute_result"
    }
   ],
   "source": [
    "list(l1_regression.coef_), l1_regression.intercept_"
   ]
  },
  {
   "cell_type": "code",
   "execution_count": 271,
   "metadata": {},
   "outputs": [
    {
     "data": {
      "text/plain": [
       "0.03763516750331519"
      ]
     },
     "execution_count": 271,
     "metadata": {},
     "output_type": "execute_result"
    }
   ],
   "source": [
    "l1_regression = Lasso(alpha=2)\n",
    "l1_regression.fit(mpg_data_atributes_scaled, mpg_data_target)\n",
    "l1_regression.score(mpg_data_atributes_scaled, mpg_data_target)"
   ]
  },
  {
   "cell_type": "code",
   "execution_count": 272,
   "metadata": {},
   "outputs": [
    {
     "data": {
      "text/plain": [
       "([-0.5625203206457757, -0.0, -0.0, -0.0, 0.0, 0.0, 0.0], 23.72402152587028)"
      ]
     },
     "execution_count": 272,
     "metadata": {},
     "output_type": "execute_result"
    }
   ],
   "source": [
    "list(l1_regression.coef_), l1_regression.intercept_"
   ]
  },
  {
   "cell_type": "code",
   "execution_count": 290,
   "metadata": {},
   "outputs": [],
   "source": []
  },
  {
   "cell_type": "code",
   "execution_count": 273,
   "metadata": {},
   "outputs": [
    {
     "data": {
      "text/plain": [
       "0.4854235870676168"
      ]
     },
     "execution_count": 273,
     "metadata": {},
     "output_type": "execute_result"
    }
   ],
   "source": [
    "l1_regression = Lasso(alpha=1)\n",
    "l1_regression.fit(mpg_data_atributes_scaled, mpg_data_target)\n",
    "l1_regression.score(mpg_data_atributes_scaled, mpg_data_target)"
   ]
  },
  {
   "cell_type": "code",
   "execution_count": 274,
   "metadata": {},
   "outputs": [
    {
     "data": {
      "text/plain": [
       "([-8.606404264927175,\n",
       "  -0.0,\n",
       "  -0.0,\n",
       "  -0.0,\n",
       "  0.0,\n",
       "  0.6894862782327024,\n",
       "  0.5297330403159326],\n",
       " 27.204545050949996)"
      ]
     },
     "execution_count": 274,
     "metadata": {},
     "output_type": "execute_result"
    }
   ],
   "source": [
    "list(l1_regression.coef_), l1_regression.intercept_"
   ]
  },
  {
   "cell_type": "code",
   "execution_count": 277,
   "metadata": {},
   "outputs": [
    {
     "data": {
      "text/plain": [
       "0.708650548639528"
      ]
     },
     "execution_count": 277,
     "metadata": {},
     "output_type": "execute_result"
    }
   ],
   "source": [
    "l1_regression = Lasso(alpha=0.5)\n",
    "l1_regression.fit(mpg_data_atributes_scaled, mpg_data_target)\n",
    "l1_regression.score(mpg_data_atributes_scaled, mpg_data_target)"
   ]
  },
  {
   "cell_type": "code",
   "execution_count": 278,
   "metadata": {},
   "outputs": [
    {
     "data": {
      "text/plain": [
       "([-7.607379087905398,\n",
       "  -0.0,\n",
       "  -0.0,\n",
       "  -4.998097007537455,\n",
       "  0.0,\n",
       "  4.884512056163431,\n",
       "  1.7726287278983843],\n",
       " 26.19572360136909)"
      ]
     },
     "execution_count": 278,
     "metadata": {},
     "output_type": "execute_result"
    }
   ],
   "source": [
    "list(l1_regression.coef_), l1_regression.intercept_"
   ]
  },
  {
   "cell_type": "code",
   "execution_count": 310,
   "metadata": {},
   "outputs": [
    {
     "data": {
      "text/plain": [
       "0.8131117430959438"
      ]
     },
     "execution_count": 310,
     "metadata": {},
     "output_type": "execute_result"
    }
   ],
   "source": [
    "l1_regression = Lasso(alpha=0.1)\n",
    "l1_regression.fit(mpg_data_atributes_scaled, mpg_data_target)\n",
    "l1_regression.score(mpg_data_atributes_scaled, mpg_data_target)"
   ]
  },
  {
   "cell_type": "code",
   "execution_count": 311,
   "metadata": {},
   "outputs": [
    {
     "data": {
      "text/plain": [
       "([-1.6212205303996081,\n",
       "  -0.0,\n",
       "  -0.0,\n",
       "  -17.79436893033446,\n",
       "  0.0,\n",
       "  8.236972644880698,\n",
       "  2.1896020643610306],\n",
       " 26.396345980998465)"
      ]
     },
     "execution_count": 311,
     "metadata": {},
     "output_type": "execute_result"
    }
   ],
   "source": [
    "list(l1_regression.coef_), l1_regression.intercept_"
   ]
  },
  {
   "cell_type": "code",
   "execution_count": 152,
   "metadata": {},
   "outputs": [
    {
     "data": {
      "text/plain": [
       "Index(['cylinders', 'displacement', 'horsepower', 'weight', 'acceleration',\n",
       "       'model_year', 'origin'],\n",
       "      dtype='object')"
      ]
     },
     "execution_count": 152,
     "metadata": {},
     "output_type": "execute_result"
    }
   ],
   "source": [
    "mpg_data_atributes.columns"
   ]
  },
  {
   "cell_type": "markdown",
   "metadata": {},
   "source": [
    "### ElasticNet"
   ]
  },
  {
   "cell_type": "code",
   "execution_count": 380,
   "metadata": {},
   "outputs": [
    {
     "data": {
      "text/plain": [
       "0.8111627435600413"
      ]
     },
     "execution_count": 380,
     "metadata": {},
     "output_type": "execute_result"
    }
   ],
   "source": [
    "elastic_net = ElasticNet(alpha=0.01, l1_ratio=0.5)\n",
    "elastic_net.fit(mpg_data_atributes_scaled, mpg_data_target)\n",
    "elastic_net.score(mpg_data_atributes_scaled, mpg_data_target)"
   ]
  },
  {
   "cell_type": "code",
   "execution_count": null,
   "metadata": {},
   "outputs": [],
   "source": []
  },
  {
   "cell_type": "markdown",
   "metadata": {},
   "source": [
    "### GridSearchCV"
   ]
  },
  {
   "cell_type": "code",
   "execution_count": 344,
   "metadata": {},
   "outputs": [],
   "source": [
    "params = {\n",
    "    'alpha': [0.01, 0.1, 1, 10, 100, 1000],\n",
    "    'fit_intercept': [True, False],\n",
    "    'max_iter': [1000, 10000, 20000]\n",
    "}\n",
    "grid_search = GridSearchCV(estimator=Lasso(), param_grid=params)"
   ]
  },
  {
   "cell_type": "code",
   "execution_count": 345,
   "metadata": {},
   "outputs": [
    {
     "data": {
      "text/plain": [
       "GridSearchCV(estimator=Lasso(),\n",
       "             param_grid={'alpha': [0.01, 0.1, 1, 10, 100, 1000],\n",
       "                         'fit_intercept': [True, False],\n",
       "                         'max_iter': [1000, 10000, 20000]})"
      ]
     },
     "execution_count": 345,
     "metadata": {},
     "output_type": "execute_result"
    }
   ],
   "source": [
    "grid_search.fit(mpg_data_atributes_scaled, mpg_data_target)"
   ]
  },
  {
   "cell_type": "code",
   "execution_count": 327,
   "metadata": {},
   "outputs": [
    {
     "data": {
      "text/plain": [
       "0.819294163777842"
      ]
     },
     "execution_count": 327,
     "metadata": {},
     "output_type": "execute_result"
    }
   ],
   "source": [
    "grid_search.best_estimator_.score(mpg_data_atributes_scaled, mpg_data_target)"
   ]
  },
  {
   "cell_type": "code",
   "execution_count": 349,
   "metadata": {},
   "outputs": [
    {
     "data": {
      "text/plain": [
       "0.5866592731287736"
      ]
     },
     "execution_count": 349,
     "metadata": {},
     "output_type": "execute_result"
    }
   ],
   "source": [
    "grid_search.best_score_"
   ]
  },
  {
   "cell_type": "code",
   "execution_count": 333,
   "metadata": {},
   "outputs": [
    {
     "data": {
      "text/plain": [
       "{'alpha': 0.01,\n",
       " 'copy_X': True,\n",
       " 'fit_intercept': True,\n",
       " 'max_iter': 1000,\n",
       " 'normalize': False,\n",
       " 'positive': False,\n",
       " 'precompute': False,\n",
       " 'random_state': None,\n",
       " 'selection': 'cyclic',\n",
       " 'tol': 0.0001,\n",
       " 'warm_start': False}"
      ]
     },
     "execution_count": 333,
     "metadata": {},
     "output_type": "execute_result"
    }
   ],
   "source": [
    "grid_search.best_estimator_.get_params()"
   ]
  },
  {
   "cell_type": "code",
   "execution_count": 339,
   "metadata": {},
   "outputs": [],
   "source": [
    "cv_results = pd.DataFrame(grid_search.cv_results_)"
   ]
  },
  {
   "cell_type": "code",
   "execution_count": 341,
   "metadata": {},
   "outputs": [
    {
     "data": {
      "text/html": [
       "<div>\n",
       "<style scoped>\n",
       "    .dataframe tbody tr th:only-of-type {\n",
       "        vertical-align: middle;\n",
       "    }\n",
       "\n",
       "    .dataframe tbody tr th {\n",
       "        vertical-align: top;\n",
       "    }\n",
       "\n",
       "    .dataframe thead th {\n",
       "        text-align: right;\n",
       "    }\n",
       "</style>\n",
       "<table border=\"1\" class=\"dataframe\">\n",
       "  <thead>\n",
       "    <tr style=\"text-align: right;\">\n",
       "      <th></th>\n",
       "      <th>0</th>\n",
       "      <th>1</th>\n",
       "      <th>2</th>\n",
       "      <th>3</th>\n",
       "      <th>4</th>\n",
       "      <th>5</th>\n",
       "      <th>6</th>\n",
       "      <th>7</th>\n",
       "      <th>8</th>\n",
       "      <th>9</th>\n",
       "      <th>...</th>\n",
       "      <th>26</th>\n",
       "      <th>27</th>\n",
       "      <th>28</th>\n",
       "      <th>29</th>\n",
       "      <th>30</th>\n",
       "      <th>31</th>\n",
       "      <th>32</th>\n",
       "      <th>33</th>\n",
       "      <th>34</th>\n",
       "      <th>35</th>\n",
       "    </tr>\n",
       "  </thead>\n",
       "  <tbody>\n",
       "    <tr>\n",
       "      <th>mean_fit_time</th>\n",
       "      <td>0.00138855</td>\n",
       "      <td>0.000396347</td>\n",
       "      <td>0.000609064</td>\n",
       "      <td>0.000399494</td>\n",
       "      <td>0.000582266</td>\n",
       "      <td>0.000198698</td>\n",
       "      <td>0.000603056</td>\n",
       "      <td>0.000801897</td>\n",
       "      <td>0</td>\n",
       "      <td>0</td>\n",
       "      <td>...</td>\n",
       "      <td>0</td>\n",
       "      <td>0.00201263</td>\n",
       "      <td>0</td>\n",
       "      <td>1.92165e-05</td>\n",
       "      <td>0</td>\n",
       "      <td>4.1008e-05</td>\n",
       "      <td>0</td>\n",
       "      <td>0.00132213</td>\n",
       "      <td>0.000393343</td>\n",
       "      <td>0.00161219</td>\n",
       "    </tr>\n",
       "    <tr>\n",
       "      <th>std_fit_time</th>\n",
       "      <td>0.000381902</td>\n",
       "      <td>0.000485463</td>\n",
       "      <td>0.00050106</td>\n",
       "      <td>0.000489438</td>\n",
       "      <td>0.00047608</td>\n",
       "      <td>0.000397396</td>\n",
       "      <td>0.000492404</td>\n",
       "      <td>0.000402406</td>\n",
       "      <td>0</td>\n",
       "      <td>0</td>\n",
       "      <td>...</td>\n",
       "      <td>0</td>\n",
       "      <td>0.00402527</td>\n",
       "      <td>0</td>\n",
       "      <td>3.84331e-05</td>\n",
       "      <td>0</td>\n",
       "      <td>5.03241e-05</td>\n",
       "      <td>0</td>\n",
       "      <td>0.00264425</td>\n",
       "      <td>0.000786686</td>\n",
       "      <td>0.00322437</td>\n",
       "    </tr>\n",
       "    <tr>\n",
       "      <th>mean_score_time</th>\n",
       "      <td>0.000599813</td>\n",
       "      <td>0.000399923</td>\n",
       "      <td>0.000391722</td>\n",
       "      <td>0.000417233</td>\n",
       "      <td>0.000619507</td>\n",
       "      <td>0.000200224</td>\n",
       "      <td>0.000399828</td>\n",
       "      <td>0</td>\n",
       "      <td>0.000181675</td>\n",
       "      <td>0.00101418</td>\n",
       "      <td>...</td>\n",
       "      <td>0</td>\n",
       "      <td>0</td>\n",
       "      <td>0</td>\n",
       "      <td>0</td>\n",
       "      <td>0.000522137</td>\n",
       "      <td>0</td>\n",
       "      <td>0</td>\n",
       "      <td>0</td>\n",
       "      <td>0</td>\n",
       "      <td>0</td>\n",
       "    </tr>\n",
       "    <tr>\n",
       "      <th>std_score_time</th>\n",
       "      <td>0.000799335</td>\n",
       "      <td>0.000489804</td>\n",
       "      <td>0.000479891</td>\n",
       "      <td>0.000511919</td>\n",
       "      <td>0.000506598</td>\n",
       "      <td>0.000400448</td>\n",
       "      <td>0.000489688</td>\n",
       "      <td>0</td>\n",
       "      <td>0.00036335</td>\n",
       "      <td>2.84282e-05</td>\n",
       "      <td>...</td>\n",
       "      <td>0</td>\n",
       "      <td>0</td>\n",
       "      <td>0</td>\n",
       "      <td>0</td>\n",
       "      <td>0.00104427</td>\n",
       "      <td>0</td>\n",
       "      <td>0</td>\n",
       "      <td>0</td>\n",
       "      <td>0</td>\n",
       "      <td>0</td>\n",
       "    </tr>\n",
       "    <tr>\n",
       "      <th>param_alpha</th>\n",
       "      <td>0.01</td>\n",
       "      <td>0.01</td>\n",
       "      <td>0.01</td>\n",
       "      <td>0.01</td>\n",
       "      <td>0.01</td>\n",
       "      <td>0.01</td>\n",
       "      <td>0.1</td>\n",
       "      <td>0.1</td>\n",
       "      <td>0.1</td>\n",
       "      <td>0.1</td>\n",
       "      <td>...</td>\n",
       "      <td>100</td>\n",
       "      <td>100</td>\n",
       "      <td>100</td>\n",
       "      <td>100</td>\n",
       "      <td>1000</td>\n",
       "      <td>1000</td>\n",
       "      <td>1000</td>\n",
       "      <td>1000</td>\n",
       "      <td>1000</td>\n",
       "      <td>1000</td>\n",
       "    </tr>\n",
       "    <tr>\n",
       "      <th>param_fit_intercept</th>\n",
       "      <td>True</td>\n",
       "      <td>True</td>\n",
       "      <td>True</td>\n",
       "      <td>False</td>\n",
       "      <td>False</td>\n",
       "      <td>False</td>\n",
       "      <td>True</td>\n",
       "      <td>True</td>\n",
       "      <td>True</td>\n",
       "      <td>False</td>\n",
       "      <td>...</td>\n",
       "      <td>True</td>\n",
       "      <td>False</td>\n",
       "      <td>False</td>\n",
       "      <td>False</td>\n",
       "      <td>True</td>\n",
       "      <td>True</td>\n",
       "      <td>True</td>\n",
       "      <td>False</td>\n",
       "      <td>False</td>\n",
       "      <td>False</td>\n",
       "    </tr>\n",
       "    <tr>\n",
       "      <th>param_max_iter</th>\n",
       "      <td>1000</td>\n",
       "      <td>10000</td>\n",
       "      <td>20000</td>\n",
       "      <td>1000</td>\n",
       "      <td>10000</td>\n",
       "      <td>20000</td>\n",
       "      <td>1000</td>\n",
       "      <td>10000</td>\n",
       "      <td>20000</td>\n",
       "      <td>1000</td>\n",
       "      <td>...</td>\n",
       "      <td>20000</td>\n",
       "      <td>1000</td>\n",
       "      <td>10000</td>\n",
       "      <td>20000</td>\n",
       "      <td>1000</td>\n",
       "      <td>10000</td>\n",
       "      <td>20000</td>\n",
       "      <td>1000</td>\n",
       "      <td>10000</td>\n",
       "      <td>20000</td>\n",
       "    </tr>\n",
       "    <tr>\n",
       "      <th>params</th>\n",
       "      <td>{'alpha': 0.01, 'fit_intercept': True, 'max_it...</td>\n",
       "      <td>{'alpha': 0.01, 'fit_intercept': True, 'max_it...</td>\n",
       "      <td>{'alpha': 0.01, 'fit_intercept': True, 'max_it...</td>\n",
       "      <td>{'alpha': 0.01, 'fit_intercept': False, 'max_i...</td>\n",
       "      <td>{'alpha': 0.01, 'fit_intercept': False, 'max_i...</td>\n",
       "      <td>{'alpha': 0.01, 'fit_intercept': False, 'max_i...</td>\n",
       "      <td>{'alpha': 0.1, 'fit_intercept': True, 'max_ite...</td>\n",
       "      <td>{'alpha': 0.1, 'fit_intercept': True, 'max_ite...</td>\n",
       "      <td>{'alpha': 0.1, 'fit_intercept': True, 'max_ite...</td>\n",
       "      <td>{'alpha': 0.1, 'fit_intercept': False, 'max_it...</td>\n",
       "      <td>...</td>\n",
       "      <td>{'alpha': 100, 'fit_intercept': True, 'max_ite...</td>\n",
       "      <td>{'alpha': 100, 'fit_intercept': False, 'max_it...</td>\n",
       "      <td>{'alpha': 100, 'fit_intercept': False, 'max_it...</td>\n",
       "      <td>{'alpha': 100, 'fit_intercept': False, 'max_it...</td>\n",
       "      <td>{'alpha': 1000, 'fit_intercept': True, 'max_it...</td>\n",
       "      <td>{'alpha': 1000, 'fit_intercept': True, 'max_it...</td>\n",
       "      <td>{'alpha': 1000, 'fit_intercept': True, 'max_it...</td>\n",
       "      <td>{'alpha': 1000, 'fit_intercept': False, 'max_i...</td>\n",
       "      <td>{'alpha': 1000, 'fit_intercept': False, 'max_i...</td>\n",
       "      <td>{'alpha': 1000, 'fit_intercept': False, 'max_i...</td>\n",
       "    </tr>\n",
       "    <tr>\n",
       "      <th>split0_test_score</th>\n",
       "      <td>0.543046</td>\n",
       "      <td>0.543046</td>\n",
       "      <td>0.543046</td>\n",
       "      <td>-0.540756</td>\n",
       "      <td>-0.540756</td>\n",
       "      <td>-0.540756</td>\n",
       "      <td>0.714541</td>\n",
       "      <td>0.714541</td>\n",
       "      <td>0.714541</td>\n",
       "      <td>-1.60084</td>\n",
       "      <td>...</td>\n",
       "      <td>-1.03589</td>\n",
       "      <td>-10.371</td>\n",
       "      <td>-10.371</td>\n",
       "      <td>-10.371</td>\n",
       "      <td>-1.03589</td>\n",
       "      <td>-1.03589</td>\n",
       "      <td>-1.03589</td>\n",
       "      <td>-10.371</td>\n",
       "      <td>-10.371</td>\n",
       "      <td>-10.371</td>\n",
       "    </tr>\n",
       "    <tr>\n",
       "      <th>split1_test_score</th>\n",
       "      <td>0.706618</td>\n",
       "      <td>0.706618</td>\n",
       "      <td>0.706618</td>\n",
       "      <td>0.513273</td>\n",
       "      <td>0.513273</td>\n",
       "      <td>0.513273</td>\n",
       "      <td>0.74219</td>\n",
       "      <td>0.74219</td>\n",
       "      <td>0.74219</td>\n",
       "      <td>0.539185</td>\n",
       "      <td>...</td>\n",
       "      <td>-0.73373</td>\n",
       "      <td>-10.7066</td>\n",
       "      <td>-10.7066</td>\n",
       "      <td>-10.7066</td>\n",
       "      <td>-0.73373</td>\n",
       "      <td>-0.73373</td>\n",
       "      <td>-0.73373</td>\n",
       "      <td>-10.7066</td>\n",
       "      <td>-10.7066</td>\n",
       "      <td>-10.7066</td>\n",
       "    </tr>\n",
       "    <tr>\n",
       "      <th>split2_test_score</th>\n",
       "      <td>0.820212</td>\n",
       "      <td>0.820212</td>\n",
       "      <td>0.820212</td>\n",
       "      <td>0.44843</td>\n",
       "      <td>0.44843</td>\n",
       "      <td>0.44843</td>\n",
       "      <td>0.816118</td>\n",
       "      <td>0.816118</td>\n",
       "      <td>0.816118</td>\n",
       "      <td>0.236434</td>\n",
       "      <td>...</td>\n",
       "      <td>-0.109113</td>\n",
       "      <td>-14.2517</td>\n",
       "      <td>-14.2517</td>\n",
       "      <td>-14.2517</td>\n",
       "      <td>-0.109113</td>\n",
       "      <td>-0.109113</td>\n",
       "      <td>-0.109113</td>\n",
       "      <td>-14.2517</td>\n",
       "      <td>-14.2517</td>\n",
       "      <td>-14.2517</td>\n",
       "    </tr>\n",
       "    <tr>\n",
       "      <th>split3_test_score</th>\n",
       "      <td>0.67009</td>\n",
       "      <td>0.67009</td>\n",
       "      <td>0.67009</td>\n",
       "      <td>0.195293</td>\n",
       "      <td>0.195293</td>\n",
       "      <td>0.195293</td>\n",
       "      <td>0.657119</td>\n",
       "      <td>0.657119</td>\n",
       "      <td>0.657119</td>\n",
       "      <td>0.0192892</td>\n",
       "      <td>...</td>\n",
       "      <td>-0.121241</td>\n",
       "      <td>-13.2559</td>\n",
       "      <td>-13.2559</td>\n",
       "      <td>-13.2559</td>\n",
       "      <td>-0.121241</td>\n",
       "      <td>-0.121241</td>\n",
       "      <td>-0.121241</td>\n",
       "      <td>-13.2559</td>\n",
       "      <td>-13.2559</td>\n",
       "      <td>-13.2559</td>\n",
       "    </tr>\n",
       "    <tr>\n",
       "      <th>split4_test_score</th>\n",
       "      <td>0.193331</td>\n",
       "      <td>0.193331</td>\n",
       "      <td>0.193331</td>\n",
       "      <td>0.234352</td>\n",
       "      <td>0.234352</td>\n",
       "      <td>0.234352</td>\n",
       "      <td>0.00194351</td>\n",
       "      <td>0.00194351</td>\n",
       "      <td>0.00194351</td>\n",
       "      <td>0.0639517</td>\n",
       "      <td>...</td>\n",
       "      <td>-3.11984</td>\n",
       "      <td>-28.3687</td>\n",
       "      <td>-28.3687</td>\n",
       "      <td>-28.3687</td>\n",
       "      <td>-3.11984</td>\n",
       "      <td>-3.11984</td>\n",
       "      <td>-3.11984</td>\n",
       "      <td>-28.3687</td>\n",
       "      <td>-28.3687</td>\n",
       "      <td>-28.3687</td>\n",
       "    </tr>\n",
       "    <tr>\n",
       "      <th>mean_test_score</th>\n",
       "      <td>0.586659</td>\n",
       "      <td>0.586659</td>\n",
       "      <td>0.586659</td>\n",
       "      <td>0.170118</td>\n",
       "      <td>0.170118</td>\n",
       "      <td>0.170118</td>\n",
       "      <td>0.586382</td>\n",
       "      <td>0.586382</td>\n",
       "      <td>0.586382</td>\n",
       "      <td>-0.148395</td>\n",
       "      <td>...</td>\n",
       "      <td>-1.02396</td>\n",
       "      <td>-15.3908</td>\n",
       "      <td>-15.3908</td>\n",
       "      <td>-15.3908</td>\n",
       "      <td>-1.02396</td>\n",
       "      <td>-1.02396</td>\n",
       "      <td>-1.02396</td>\n",
       "      <td>-15.3908</td>\n",
       "      <td>-15.3908</td>\n",
       "      <td>-15.3908</td>\n",
       "    </tr>\n",
       "    <tr>\n",
       "      <th>std_test_score</th>\n",
       "      <td>0.215642</td>\n",
       "      <td>0.215642</td>\n",
       "      <td>0.215642</td>\n",
       "      <td>0.375584</td>\n",
       "      <td>0.375584</td>\n",
       "      <td>0.375584</td>\n",
       "      <td>0.296665</td>\n",
       "      <td>0.296665</td>\n",
       "      <td>0.296665</td>\n",
       "      <td>0.748819</td>\n",
       "      <td>...</td>\n",
       "      <td>1.10715</td>\n",
       "      <td>6.65464</td>\n",
       "      <td>6.65464</td>\n",
       "      <td>6.65464</td>\n",
       "      <td>1.10715</td>\n",
       "      <td>1.10715</td>\n",
       "      <td>1.10715</td>\n",
       "      <td>6.65464</td>\n",
       "      <td>6.65464</td>\n",
       "      <td>6.65464</td>\n",
       "    </tr>\n",
       "    <tr>\n",
       "      <th>rank_test_score</th>\n",
       "      <td>1</td>\n",
       "      <td>1</td>\n",
       "      <td>1</td>\n",
       "      <td>7</td>\n",
       "      <td>7</td>\n",
       "      <td>7</td>\n",
       "      <td>4</td>\n",
       "      <td>4</td>\n",
       "      <td>4</td>\n",
       "      <td>13</td>\n",
       "      <td>...</td>\n",
       "      <td>19</td>\n",
       "      <td>31</td>\n",
       "      <td>31</td>\n",
       "      <td>31</td>\n",
       "      <td>19</td>\n",
       "      <td>19</td>\n",
       "      <td>19</td>\n",
       "      <td>31</td>\n",
       "      <td>31</td>\n",
       "      <td>31</td>\n",
       "    </tr>\n",
       "  </tbody>\n",
       "</table>\n",
       "<p>16 rows × 36 columns</p>\n",
       "</div>"
      ],
      "text/plain": [
       "                                                                    0   \\\n",
       "mean_fit_time                                               0.00138855   \n",
       "std_fit_time                                               0.000381902   \n",
       "mean_score_time                                            0.000599813   \n",
       "std_score_time                                             0.000799335   \n",
       "param_alpha                                                       0.01   \n",
       "param_fit_intercept                                               True   \n",
       "param_max_iter                                                    1000   \n",
       "params               {'alpha': 0.01, 'fit_intercept': True, 'max_it...   \n",
       "split0_test_score                                             0.543046   \n",
       "split1_test_score                                             0.706618   \n",
       "split2_test_score                                             0.820212   \n",
       "split3_test_score                                              0.67009   \n",
       "split4_test_score                                             0.193331   \n",
       "mean_test_score                                               0.586659   \n",
       "std_test_score                                                0.215642   \n",
       "rank_test_score                                                      1   \n",
       "\n",
       "                                                                    1   \\\n",
       "mean_fit_time                                              0.000396347   \n",
       "std_fit_time                                               0.000485463   \n",
       "mean_score_time                                            0.000399923   \n",
       "std_score_time                                             0.000489804   \n",
       "param_alpha                                                       0.01   \n",
       "param_fit_intercept                                               True   \n",
       "param_max_iter                                                   10000   \n",
       "params               {'alpha': 0.01, 'fit_intercept': True, 'max_it...   \n",
       "split0_test_score                                             0.543046   \n",
       "split1_test_score                                             0.706618   \n",
       "split2_test_score                                             0.820212   \n",
       "split3_test_score                                              0.67009   \n",
       "split4_test_score                                             0.193331   \n",
       "mean_test_score                                               0.586659   \n",
       "std_test_score                                                0.215642   \n",
       "rank_test_score                                                      1   \n",
       "\n",
       "                                                                    2   \\\n",
       "mean_fit_time                                              0.000609064   \n",
       "std_fit_time                                                0.00050106   \n",
       "mean_score_time                                            0.000391722   \n",
       "std_score_time                                             0.000479891   \n",
       "param_alpha                                                       0.01   \n",
       "param_fit_intercept                                               True   \n",
       "param_max_iter                                                   20000   \n",
       "params               {'alpha': 0.01, 'fit_intercept': True, 'max_it...   \n",
       "split0_test_score                                             0.543046   \n",
       "split1_test_score                                             0.706618   \n",
       "split2_test_score                                             0.820212   \n",
       "split3_test_score                                              0.67009   \n",
       "split4_test_score                                             0.193331   \n",
       "mean_test_score                                               0.586659   \n",
       "std_test_score                                                0.215642   \n",
       "rank_test_score                                                      1   \n",
       "\n",
       "                                                                    3   \\\n",
       "mean_fit_time                                              0.000399494   \n",
       "std_fit_time                                               0.000489438   \n",
       "mean_score_time                                            0.000417233   \n",
       "std_score_time                                             0.000511919   \n",
       "param_alpha                                                       0.01   \n",
       "param_fit_intercept                                              False   \n",
       "param_max_iter                                                    1000   \n",
       "params               {'alpha': 0.01, 'fit_intercept': False, 'max_i...   \n",
       "split0_test_score                                            -0.540756   \n",
       "split1_test_score                                             0.513273   \n",
       "split2_test_score                                              0.44843   \n",
       "split3_test_score                                             0.195293   \n",
       "split4_test_score                                             0.234352   \n",
       "mean_test_score                                               0.170118   \n",
       "std_test_score                                                0.375584   \n",
       "rank_test_score                                                      7   \n",
       "\n",
       "                                                                    4   \\\n",
       "mean_fit_time                                              0.000582266   \n",
       "std_fit_time                                                0.00047608   \n",
       "mean_score_time                                            0.000619507   \n",
       "std_score_time                                             0.000506598   \n",
       "param_alpha                                                       0.01   \n",
       "param_fit_intercept                                              False   \n",
       "param_max_iter                                                   10000   \n",
       "params               {'alpha': 0.01, 'fit_intercept': False, 'max_i...   \n",
       "split0_test_score                                            -0.540756   \n",
       "split1_test_score                                             0.513273   \n",
       "split2_test_score                                              0.44843   \n",
       "split3_test_score                                             0.195293   \n",
       "split4_test_score                                             0.234352   \n",
       "mean_test_score                                               0.170118   \n",
       "std_test_score                                                0.375584   \n",
       "rank_test_score                                                      7   \n",
       "\n",
       "                                                                    5   \\\n",
       "mean_fit_time                                              0.000198698   \n",
       "std_fit_time                                               0.000397396   \n",
       "mean_score_time                                            0.000200224   \n",
       "std_score_time                                             0.000400448   \n",
       "param_alpha                                                       0.01   \n",
       "param_fit_intercept                                              False   \n",
       "param_max_iter                                                   20000   \n",
       "params               {'alpha': 0.01, 'fit_intercept': False, 'max_i...   \n",
       "split0_test_score                                            -0.540756   \n",
       "split1_test_score                                             0.513273   \n",
       "split2_test_score                                              0.44843   \n",
       "split3_test_score                                             0.195293   \n",
       "split4_test_score                                             0.234352   \n",
       "mean_test_score                                               0.170118   \n",
       "std_test_score                                                0.375584   \n",
       "rank_test_score                                                      7   \n",
       "\n",
       "                                                                    6   \\\n",
       "mean_fit_time                                              0.000603056   \n",
       "std_fit_time                                               0.000492404   \n",
       "mean_score_time                                            0.000399828   \n",
       "std_score_time                                             0.000489688   \n",
       "param_alpha                                                        0.1   \n",
       "param_fit_intercept                                               True   \n",
       "param_max_iter                                                    1000   \n",
       "params               {'alpha': 0.1, 'fit_intercept': True, 'max_ite...   \n",
       "split0_test_score                                             0.714541   \n",
       "split1_test_score                                              0.74219   \n",
       "split2_test_score                                             0.816118   \n",
       "split3_test_score                                             0.657119   \n",
       "split4_test_score                                           0.00194351   \n",
       "mean_test_score                                               0.586382   \n",
       "std_test_score                                                0.296665   \n",
       "rank_test_score                                                      4   \n",
       "\n",
       "                                                                    7   \\\n",
       "mean_fit_time                                              0.000801897   \n",
       "std_fit_time                                               0.000402406   \n",
       "mean_score_time                                                      0   \n",
       "std_score_time                                                       0   \n",
       "param_alpha                                                        0.1   \n",
       "param_fit_intercept                                               True   \n",
       "param_max_iter                                                   10000   \n",
       "params               {'alpha': 0.1, 'fit_intercept': True, 'max_ite...   \n",
       "split0_test_score                                             0.714541   \n",
       "split1_test_score                                              0.74219   \n",
       "split2_test_score                                             0.816118   \n",
       "split3_test_score                                             0.657119   \n",
       "split4_test_score                                           0.00194351   \n",
       "mean_test_score                                               0.586382   \n",
       "std_test_score                                                0.296665   \n",
       "rank_test_score                                                      4   \n",
       "\n",
       "                                                                    8   \\\n",
       "mean_fit_time                                                        0   \n",
       "std_fit_time                                                         0   \n",
       "mean_score_time                                            0.000181675   \n",
       "std_score_time                                              0.00036335   \n",
       "param_alpha                                                        0.1   \n",
       "param_fit_intercept                                               True   \n",
       "param_max_iter                                                   20000   \n",
       "params               {'alpha': 0.1, 'fit_intercept': True, 'max_ite...   \n",
       "split0_test_score                                             0.714541   \n",
       "split1_test_score                                              0.74219   \n",
       "split2_test_score                                             0.816118   \n",
       "split3_test_score                                             0.657119   \n",
       "split4_test_score                                           0.00194351   \n",
       "mean_test_score                                               0.586382   \n",
       "std_test_score                                                0.296665   \n",
       "rank_test_score                                                      4   \n",
       "\n",
       "                                                                    9   ...  \\\n",
       "mean_fit_time                                                        0  ...   \n",
       "std_fit_time                                                         0  ...   \n",
       "mean_score_time                                             0.00101418  ...   \n",
       "std_score_time                                             2.84282e-05  ...   \n",
       "param_alpha                                                        0.1  ...   \n",
       "param_fit_intercept                                              False  ...   \n",
       "param_max_iter                                                    1000  ...   \n",
       "params               {'alpha': 0.1, 'fit_intercept': False, 'max_it...  ...   \n",
       "split0_test_score                                             -1.60084  ...   \n",
       "split1_test_score                                             0.539185  ...   \n",
       "split2_test_score                                             0.236434  ...   \n",
       "split3_test_score                                            0.0192892  ...   \n",
       "split4_test_score                                            0.0639517  ...   \n",
       "mean_test_score                                              -0.148395  ...   \n",
       "std_test_score                                                0.748819  ...   \n",
       "rank_test_score                                                     13  ...   \n",
       "\n",
       "                                                                    26  \\\n",
       "mean_fit_time                                                        0   \n",
       "std_fit_time                                                         0   \n",
       "mean_score_time                                                      0   \n",
       "std_score_time                                                       0   \n",
       "param_alpha                                                        100   \n",
       "param_fit_intercept                                               True   \n",
       "param_max_iter                                                   20000   \n",
       "params               {'alpha': 100, 'fit_intercept': True, 'max_ite...   \n",
       "split0_test_score                                             -1.03589   \n",
       "split1_test_score                                             -0.73373   \n",
       "split2_test_score                                            -0.109113   \n",
       "split3_test_score                                            -0.121241   \n",
       "split4_test_score                                             -3.11984   \n",
       "mean_test_score                                               -1.02396   \n",
       "std_test_score                                                 1.10715   \n",
       "rank_test_score                                                     19   \n",
       "\n",
       "                                                                    27  \\\n",
       "mean_fit_time                                               0.00201263   \n",
       "std_fit_time                                                0.00402527   \n",
       "mean_score_time                                                      0   \n",
       "std_score_time                                                       0   \n",
       "param_alpha                                                        100   \n",
       "param_fit_intercept                                              False   \n",
       "param_max_iter                                                    1000   \n",
       "params               {'alpha': 100, 'fit_intercept': False, 'max_it...   \n",
       "split0_test_score                                              -10.371   \n",
       "split1_test_score                                             -10.7066   \n",
       "split2_test_score                                             -14.2517   \n",
       "split3_test_score                                             -13.2559   \n",
       "split4_test_score                                             -28.3687   \n",
       "mean_test_score                                               -15.3908   \n",
       "std_test_score                                                 6.65464   \n",
       "rank_test_score                                                     31   \n",
       "\n",
       "                                                                    28  \\\n",
       "mean_fit_time                                                        0   \n",
       "std_fit_time                                                         0   \n",
       "mean_score_time                                                      0   \n",
       "std_score_time                                                       0   \n",
       "param_alpha                                                        100   \n",
       "param_fit_intercept                                              False   \n",
       "param_max_iter                                                   10000   \n",
       "params               {'alpha': 100, 'fit_intercept': False, 'max_it...   \n",
       "split0_test_score                                              -10.371   \n",
       "split1_test_score                                             -10.7066   \n",
       "split2_test_score                                             -14.2517   \n",
       "split3_test_score                                             -13.2559   \n",
       "split4_test_score                                             -28.3687   \n",
       "mean_test_score                                               -15.3908   \n",
       "std_test_score                                                 6.65464   \n",
       "rank_test_score                                                     31   \n",
       "\n",
       "                                                                    29  \\\n",
       "mean_fit_time                                              1.92165e-05   \n",
       "std_fit_time                                               3.84331e-05   \n",
       "mean_score_time                                                      0   \n",
       "std_score_time                                                       0   \n",
       "param_alpha                                                        100   \n",
       "param_fit_intercept                                              False   \n",
       "param_max_iter                                                   20000   \n",
       "params               {'alpha': 100, 'fit_intercept': False, 'max_it...   \n",
       "split0_test_score                                              -10.371   \n",
       "split1_test_score                                             -10.7066   \n",
       "split2_test_score                                             -14.2517   \n",
       "split3_test_score                                             -13.2559   \n",
       "split4_test_score                                             -28.3687   \n",
       "mean_test_score                                               -15.3908   \n",
       "std_test_score                                                 6.65464   \n",
       "rank_test_score                                                     31   \n",
       "\n",
       "                                                                    30  \\\n",
       "mean_fit_time                                                        0   \n",
       "std_fit_time                                                         0   \n",
       "mean_score_time                                            0.000522137   \n",
       "std_score_time                                              0.00104427   \n",
       "param_alpha                                                       1000   \n",
       "param_fit_intercept                                               True   \n",
       "param_max_iter                                                    1000   \n",
       "params               {'alpha': 1000, 'fit_intercept': True, 'max_it...   \n",
       "split0_test_score                                             -1.03589   \n",
       "split1_test_score                                             -0.73373   \n",
       "split2_test_score                                            -0.109113   \n",
       "split3_test_score                                            -0.121241   \n",
       "split4_test_score                                             -3.11984   \n",
       "mean_test_score                                               -1.02396   \n",
       "std_test_score                                                 1.10715   \n",
       "rank_test_score                                                     19   \n",
       "\n",
       "                                                                    31  \\\n",
       "mean_fit_time                                               4.1008e-05   \n",
       "std_fit_time                                               5.03241e-05   \n",
       "mean_score_time                                                      0   \n",
       "std_score_time                                                       0   \n",
       "param_alpha                                                       1000   \n",
       "param_fit_intercept                                               True   \n",
       "param_max_iter                                                   10000   \n",
       "params               {'alpha': 1000, 'fit_intercept': True, 'max_it...   \n",
       "split0_test_score                                             -1.03589   \n",
       "split1_test_score                                             -0.73373   \n",
       "split2_test_score                                            -0.109113   \n",
       "split3_test_score                                            -0.121241   \n",
       "split4_test_score                                             -3.11984   \n",
       "mean_test_score                                               -1.02396   \n",
       "std_test_score                                                 1.10715   \n",
       "rank_test_score                                                     19   \n",
       "\n",
       "                                                                    32  \\\n",
       "mean_fit_time                                                        0   \n",
       "std_fit_time                                                         0   \n",
       "mean_score_time                                                      0   \n",
       "std_score_time                                                       0   \n",
       "param_alpha                                                       1000   \n",
       "param_fit_intercept                                               True   \n",
       "param_max_iter                                                   20000   \n",
       "params               {'alpha': 1000, 'fit_intercept': True, 'max_it...   \n",
       "split0_test_score                                             -1.03589   \n",
       "split1_test_score                                             -0.73373   \n",
       "split2_test_score                                            -0.109113   \n",
       "split3_test_score                                            -0.121241   \n",
       "split4_test_score                                             -3.11984   \n",
       "mean_test_score                                               -1.02396   \n",
       "std_test_score                                                 1.10715   \n",
       "rank_test_score                                                     19   \n",
       "\n",
       "                                                                    33  \\\n",
       "mean_fit_time                                               0.00132213   \n",
       "std_fit_time                                                0.00264425   \n",
       "mean_score_time                                                      0   \n",
       "std_score_time                                                       0   \n",
       "param_alpha                                                       1000   \n",
       "param_fit_intercept                                              False   \n",
       "param_max_iter                                                    1000   \n",
       "params               {'alpha': 1000, 'fit_intercept': False, 'max_i...   \n",
       "split0_test_score                                              -10.371   \n",
       "split1_test_score                                             -10.7066   \n",
       "split2_test_score                                             -14.2517   \n",
       "split3_test_score                                             -13.2559   \n",
       "split4_test_score                                             -28.3687   \n",
       "mean_test_score                                               -15.3908   \n",
       "std_test_score                                                 6.65464   \n",
       "rank_test_score                                                     31   \n",
       "\n",
       "                                                                    34  \\\n",
       "mean_fit_time                                              0.000393343   \n",
       "std_fit_time                                               0.000786686   \n",
       "mean_score_time                                                      0   \n",
       "std_score_time                                                       0   \n",
       "param_alpha                                                       1000   \n",
       "param_fit_intercept                                              False   \n",
       "param_max_iter                                                   10000   \n",
       "params               {'alpha': 1000, 'fit_intercept': False, 'max_i...   \n",
       "split0_test_score                                              -10.371   \n",
       "split1_test_score                                             -10.7066   \n",
       "split2_test_score                                             -14.2517   \n",
       "split3_test_score                                             -13.2559   \n",
       "split4_test_score                                             -28.3687   \n",
       "mean_test_score                                               -15.3908   \n",
       "std_test_score                                                 6.65464   \n",
       "rank_test_score                                                     31   \n",
       "\n",
       "                                                                    35  \n",
       "mean_fit_time                                               0.00161219  \n",
       "std_fit_time                                                0.00322437  \n",
       "mean_score_time                                                      0  \n",
       "std_score_time                                                       0  \n",
       "param_alpha                                                       1000  \n",
       "param_fit_intercept                                              False  \n",
       "param_max_iter                                                   20000  \n",
       "params               {'alpha': 1000, 'fit_intercept': False, 'max_i...  \n",
       "split0_test_score                                              -10.371  \n",
       "split1_test_score                                             -10.7066  \n",
       "split2_test_score                                             -14.2517  \n",
       "split3_test_score                                             -13.2559  \n",
       "split4_test_score                                             -28.3687  \n",
       "mean_test_score                                               -15.3908  \n",
       "std_test_score                                                 6.65464  \n",
       "rank_test_score                                                     31  \n",
       "\n",
       "[16 rows x 36 columns]"
      ]
     },
     "execution_count": 341,
     "metadata": {},
     "output_type": "execute_result"
    }
   ],
   "source": [
    "cv_results.T"
   ]
  },
  {
   "cell_type": "markdown",
   "metadata": {},
   "source": [
    "### KFold"
   ]
  },
  {
   "cell_type": "code",
   "execution_count": 358,
   "metadata": {},
   "outputs": [],
   "source": [
    "k_fold = KFold(n_splits=5)"
   ]
  },
  {
   "cell_type": "code",
   "execution_count": 361,
   "metadata": {},
   "outputs": [],
   "source": [
    "scores = cross_val_score(l1_regression, mpg_data_atributes_scaled, mpg_data_target, cv=k_fold)"
   ]
  },
  {
   "cell_type": "code",
   "execution_count": 362,
   "metadata": {},
   "outputs": [
    {
     "data": {
      "text/plain": [
       "array([0.71454093, 0.74219036, 0.8161181 , 0.65711864, 0.00194351])"
      ]
     },
     "execution_count": 362,
     "metadata": {},
     "output_type": "execute_result"
    }
   ],
   "source": [
    "scores"
   ]
  },
  {
   "cell_type": "code",
   "execution_count": null,
   "metadata": {},
   "outputs": [],
   "source": []
  },
  {
   "cell_type": "markdown",
   "metadata": {},
   "source": [
    "### Split scaled attributes and targets - train_test_split()"
   ]
  },
  {
   "cell_type": "code",
   "execution_count": 94,
   "metadata": {},
   "outputs": [],
   "source": [
    "mpg_data_atributes_scaled_train, mpg_data_atributes_scaled_test, mpg_data_target_train, mpg_data_target_test = train_test_split(\n",
    "    mpg_data_atributes_scaled, mpg_data_target, train_size = 0.7, random_state=42)"
   ]
  },
  {
   "cell_type": "code",
   "execution_count": 95,
   "metadata": {},
   "outputs": [
    {
     "data": {
      "text/plain": [
       "((274, 7), (118, 7))"
      ]
     },
     "execution_count": 95,
     "metadata": {},
     "output_type": "execute_result"
    }
   ],
   "source": [
    "mpg_data_atributes_scaled_train.shape, mpg_data_atributes_scaled_test.shape"
   ]
  },
  {
   "cell_type": "code",
   "execution_count": 96,
   "metadata": {},
   "outputs": [
    {
     "data": {
      "text/plain": [
       "((274,), (118,))"
      ]
     },
     "execution_count": 96,
     "metadata": {},
     "output_type": "execute_result"
    }
   ],
   "source": [
    "mpg_data_target_train.shape, mpg_data_target_test.shape"
   ]
  },
  {
   "cell_type": "markdown",
   "metadata": {},
   "source": [
    "### Compearing results of the model with splited data without regularisation"
   ]
  },
  {
   "cell_type": "code",
   "execution_count": 97,
   "metadata": {},
   "outputs": [
    {
     "data": {
      "text/plain": [
       "LinearRegression()"
      ]
     },
     "execution_count": 97,
     "metadata": {},
     "output_type": "execute_result"
    }
   ],
   "source": [
    "linear_regression = LinearRegression()\n",
    "linear_regression.fit(mpg_data_atributes_scaled_train, mpg_data_target_train)"
   ]
  },
  {
   "cell_type": "code",
   "execution_count": 98,
   "metadata": {},
   "outputs": [
    {
     "data": {
      "text/plain": [
       "0.8221075220232333"
      ]
     },
     "execution_count": 98,
     "metadata": {},
     "output_type": "execute_result"
    }
   ],
   "source": [
    "linear_regression.score(mpg_data_atributes_scaled_train, mpg_data_target_train)"
   ]
  },
  {
   "cell_type": "code",
   "execution_count": 99,
   "metadata": {},
   "outputs": [
    {
     "data": {
      "text/plain": [
       "0.8097361276184127"
      ]
     },
     "execution_count": 99,
     "metadata": {},
     "output_type": "execute_result"
    }
   ],
   "source": [
    "linear_regression.score(mpg_data_atributes_scaled_test, mpg_data_target_test)"
   ]
  },
  {
   "cell_type": "code",
   "execution_count": 100,
   "metadata": {},
   "outputs": [],
   "source": [
    "predicted_mpgs = linear_regression.predict(mpg_data_atributes_scaled_test)"
   ]
  },
  {
   "cell_type": "markdown",
   "metadata": {},
   "source": [
    "## Evaluation model performance"
   ]
  },
  {
   "cell_type": "markdown",
   "metadata": {},
   "source": [
    "### Histograms of Test target and Predicted values using test atributes"
   ]
  },
  {
   "cell_type": "code",
   "execution_count": 382,
   "metadata": {},
   "outputs": [
    {
     "data": {
      "text/plain": [
       "0.8097361276184127"
      ]
     },
     "execution_count": 382,
     "metadata": {},
     "output_type": "execute_result"
    }
   ],
   "source": [
    "r2_score(mpg_data_target_test, predicted_mpgs)"
   ]
  },
  {
   "cell_type": "code",
   "execution_count": 375,
   "metadata": {},
   "outputs": [
    {
     "data": {
      "image/png": "[encoded data removed]",
      "text/plain": [
       "<Figure size 432x288 with 1 Axes>"
      ]
     },
     "metadata": {
      "needs_background": "light"
     },
     "output_type": "display_data"
    }
   ],
   "source": [
    "plt.hist(mpg_data_target_test, label='test', alpha=0.7)\n",
    "plt.hist(predicted_mpgs, label='predicted', alpha=0.7)\n",
    "\n",
    "plt.xlabel('mpg values')\n",
    "plt.ylabel('distribution')\n",
    "\n",
    "plt.legend()\n",
    "plt.show()"
   ]
  },
  {
   "cell_type": "code",
   "execution_count": 379,
   "metadata": {},
   "outputs": [
    {
     "data": {
      "image/png": "[encoded data removed]",
      "text/plain": [
       "<Figure size 432x288 with 1 Axes>"
      ]
     },
     "metadata": {
      "needs_background": "light"
     },
     "output_type": "display_data"
    }
   ],
   "source": [
    "# Histogram of Observed(predicted) - Estimated(actual)\n",
    "\n",
    "plt.hist(predicted_mpgs - mpg_data_target_test, bins='fd')\n",
    "plt.axvline([0], color='red')\n",
    "\n",
    "plt.xlabel('Residuals')\n",
    "plt.ylabel('Distribution')\n",
    "\n",
    "plt.show()\n",
    "# При добър модел повечето разлики трябва да са близки до нулата"
   ]
  },
  {
   "cell_type": "code",
   "execution_count": null,
   "metadata": {},
   "outputs": [],
   "source": []
  },
  {
   "cell_type": "code",
   "execution_count": 391,
   "metadata": {},
   "outputs": [
    {
     "data": {
      "image/png": "[encoded data removed]",
      "text/plain": [
       "<Figure size 432x288 with 1 Axes>"
      ]
     },
     "metadata": {
      "needs_background": "light"
     },
     "output_type": "display_data"
    }
   ],
   "source": [
    "# Scaterplot\n",
    "plt.scatter(mpg_data_target_test, predicted_mpgs)\n",
    "\n",
    "plt.xlabel('Actual')\n",
    "plt.ylabel('Predicted')\n",
    "\n",
    "plt.show()"
   ]
  },
  {
   "cell_type": "code",
   "execution_count": 378,
   "metadata": {},
   "outputs": [
    {
     "data": {
      "image/png": "[encoded data removed]",
      "text/plain": [
       "<Figure size 432x288 with 1 Axes>"
      ]
     },
     "metadata": {
      "needs_background": "light"
     },
     "output_type": "display_data"
    }
   ],
   "source": [
    "# Residual scaterplot\n",
    "\n",
    "plt.scatter(mpg_data_target_test, predicted_mpgs - mpg_data_target_test)\n",
    "\n",
    "plt.xlabel('Predicted')\n",
    "plt.ylabel('Residual')\n",
    "plt.axhline([0], c='red')\n",
    "\n",
    "plt.show()\n",
    "# за да кажем, че моделът е добър, точките трябва да са разпилени равномерно и да са в малък интервал по у"
   ]
  },
  {
   "cell_type": "code",
   "execution_count": null,
   "metadata": {},
   "outputs": [],
   "source": []
  },
  {
   "cell_type": "code",
   "execution_count": null,
   "metadata": {},
   "outputs": [],
   "source": []
  }
 ],
 "metadata": {
  "kernelspec": {
   "display_name": "Python 3",
   "language": "python",
   "name": "python3"
  },
  "language_info": {
   "codemirror_mode": {
    "name": "ipython",
    "version": 3
   },
   "file_extension": ".py",
   "mimetype": "text/x-python",
   "name": "python",
   "nbconvert_exporter": "python",
   "pygments_lexer": "ipython3",
   "version": "3.8.5"
  }
 },
 "nbformat": 4,
 "nbformat_minor": 4
}
